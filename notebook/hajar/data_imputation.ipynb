{
 "cells": [
  {
   "cell_type": "markdown",
   "metadata": {},
   "source": [
    "## Data Imputation Methods\n",
    "\n",
    "# Potential Methods:\n",
    "1. Simple Random Imputation\n",
    "2. Regression Prediction\n",
    "3. Random Regression Imputation\n"
   ]
  }
 ],
 "metadata": {
  "language_info": {
   "name": "python"
  }
 },
 "nbformat": 4,
 "nbformat_minor": 2
}
