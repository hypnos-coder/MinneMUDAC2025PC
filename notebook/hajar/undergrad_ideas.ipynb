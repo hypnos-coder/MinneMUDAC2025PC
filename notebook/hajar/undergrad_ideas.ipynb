{
 "cells": [
  {
   "cell_type": "markdown",
   "metadata": {},
   "source": [
    "# Ideas for Methods to Answer Questions in Undergraduate Section\n",
    "\n",
    "## Question 1\n",
    "Does the cadence (i.e. days between calls) of the Match Support Calls have an impact on the distribution of Match Length? Consider the Match Support Contact Notes open text field.  \n",
    "\n",
    "\n",
    "## Question 2\n",
    "Are there key words, phrases, or sentiments within this field that are related to Match Length?\n",
    "### Methods:\n",
    "-\n",
    "-\n",
    "-\n",
    "\n",
    "## Question 3\n",
    "Do the key words, phrases, or sentiments differ between the early stages and late stages of a match?\n",
    "### Methods:\n",
    "-\n",
    "-\n",
    "-\n",
    "\n",
    "## Question 4\n",
    "Big Brother Big Sisters Twin Cities would like to improve upon their ability to identify whether or not a match is likely to remain active or close in the near future. Provide a small set of questions that a call coordinator should ask when making Match Support Calls that would be useful in understanding whether or not a match is at-risk for closure in the next 3-6 months. These questions should leverage information from all fields including insights gained from the Match Support Contact Notes and should be structured as drop-down options with a limited set of responses.\n",
    "### Methods:\n",
    "-\n",
    "-\n",
    "-\n",
    "\n",
    "## Question 5\n",
    "Predictive Component\n",
    "Create a predictive model for Match Length\n",
    "Build the model using the Training set.  You will be required to submit predictions for Match Length for cases in the Test-Truncated set.  Additional information will be forthcoming regarding the submission of your predictions.\n",
    "Root Mean Square Error (RMSE) will be the metric used to evaluate predictions for the Test cases.\n",
    "### Methods:\n",
    "-\n",
    "-\n",
    "-\n",
    "\n",
    "## Comments\n",
    "- The difference between Match Activation Date and most recent Completion Date is strongly correlated with Match Length.  Thus, the Match Support Contact Notes for the cases in the Test set have been truncated.  That is, the last few instances of Match Support Contact Notes have been removed from the Test-Truncated.  Additional explanation of this process is provided in the Data Sources document. \n",
    "- The quality of your prediction will be evaluated objectively using RMSE.  In addition, the rubrics used by the judges will contain items related to your predictive modeling strategy and your ability to leverage additional information beyond the cadence or number of Match Support Contact Notes related to each match.\n",
    "### Methods:\n",
    "-\n",
    "-\n",
    "-\n",
    "\n",
    "## Summary\n"
   ]
  }
 ],
 "metadata": {
  "language_info": {
   "name": "python"
  }
 },
 "nbformat": 4,
 "nbformat_minor": 2
}
