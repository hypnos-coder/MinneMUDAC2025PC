{
 "cells": [
  {
   "cell_type": "code",
   "execution_count": 32,
   "metadata": {},
   "outputs": [],
   "source": [
    "import numpy as np\n",
    "import pandas as pd\n",
    "from sklearn.preprocessing import LabelEncoder\n",
    "import warnings\n",
    "from missforest import MissForest\n",
    "warnings.simplefilter(\"ignore\")"
   ]
  },
  {
   "cell_type": "code",
   "execution_count": 33,
   "metadata": {},
   "outputs": [],
   "source": [
    "df = pd.read_excel(\"../../data/restated/Test-Truncated-Restated.xlsx\")\n",
    "normal_df = df.drop(\n",
    "    [\"Completion Date\", \"Match Support Contact Notes\"],\n",
    "    axis=1\n",
    ")\n",
    "contact_note_df = df[['Match ID 18Char', \"Completion Date\", \"Match Support Contact Notes\"]]\n"
   ]
  },
  {
   "cell_type": "code",
   "execution_count": 34,
   "metadata": {},
   "outputs": [
    {
     "data": {
      "text/plain": [
       "(2566, 63)"
      ]
     },
     "execution_count": 34,
     "metadata": {},
     "output_type": "execute_result"
    }
   ],
   "source": [
    "df.shape"
   ]
  },
  {
   "cell_type": "code",
   "execution_count": 35,
   "metadata": {},
   "outputs": [],
   "source": [
    "# columns to be modified\n",
    "# todo: remove all \"contact\" and use _\n",
    "# these columns are either not relevant for match length or missing enormous amount of values (might use then for eda)\n",
    "to_be_deleted = [\n",
    "    \"Big Employer/School Census Block Group\", \"Big Enrollment: Created Date\", \"Big Acceptance Date\",\n",
    "    \"Big Contact: Created Date\",\"Big Days Acceptance to Match\", \"Big Days Interview to Acceptance\",\"Big Days Interview to Match\",\n",
    "    \"Big Contact: Preferred Communication Type\", \"Big Assessment Uploaded\", \"Big Enrollment: Created Date\",\n",
    "    \"Big Employer\", \"Big Employer/School Census Block Group\", \"Big Approved Date\", \"Big Home Census Block Group\", \"Big Enrollment: Record Type\",\n",
    "\n",
    "    \"Big Contact: Interest Finder - Entertainment\",\"Big Contact: Interest Finder - Hobbies\",\"Big Contact: Interest Finder - Places To Go\",\n",
    "    \"Big Contact: Interest Finder - Sports\",\"Little Contact: Interest Finder - Arts\",\"Little Contact: Interest Finder - Career\",\n",
    "    \"Little Contact: Interest Finder - Entertainment\", \"Little Contact: Interest Finder - Hobbies\", \"Little Contact: Interest Finder - Other Interests\",\n",
    "    \"Little Contact: Interest Finder - Outdoors\",\"Little Contact: Interest Finder - Personality\",\"Little Contact: Interest Finder - Places To Go\",\n",
    "    \"Little Contact: Interest Finder - Sports\",\"Little Contact: Interest Finder - Three Wishes\",\"Little Other Interests\",\n",
    "    \"Little Contact: Language(s) Spoken\", \"Big Contact: Former Big/Little\", \"Big Level of Education\", \"Big: Military\",\n",
    "    \"Big Languages\", \"Big Car Access\", \"Big Open to Cross-Gender Match\", \"Big Contact: Volunteer Availability\", \"Big Contact: Marital Status\", \"Big Re-Enroll\", \"Big County\",\n",
    "                    \n",
    "\n",
    "    \"Big ID\", \"Little ID\", \"Big Assessment Uploaded\", \n",
    "    \"Little Mailing Address Census Block Group\", \"Little Interview Date\", \"Little Acceptance Date\", \"Little Application Received\", \"Little Moved to RTBM in MF\",\n",
    "    \"Little RTBM Date in MF\", \"Little RTBM in Matchforce\", \"Little Moved to RTBM in MF\", \"Little Interview Date\", \"Little Acceptance Date\", \"Little RTBM in Matchforce\",\n",
    "]\n",
    "\n",
    "yes_no = [\n",
    "    \"Big Open to Cross-Gender Match\", \"Big Re-Enroll\", \"Big Contact: Marital Status\", \"Big Gender\", \"Big Military\", \"Big Car Access\",\n",
    "    \"Big Contact: Former Big/Little\", \n",
    "] "
   ]
  },
  {
   "cell_type": "code",
   "execution_count": 36,
   "metadata": {},
   "outputs": [],
   "source": [
    "normal_df.drop(to_be_deleted, axis=1, inplace=True)"
   ]
  },
  {
   "cell_type": "code",
   "execution_count": 37,
   "metadata": {},
   "outputs": [
    {
     "data": {
      "text/plain": [
       "Index(['match_id', 'big_age', 'big_occupation', 'big_gender', 'big_birthdate',\n",
       "       'program', 'program_type', 'big_race_ethnicity',\n",
       "       'match_activation_date', 'rationale_for_match', 'little_gender',\n",
       "       'little_participant__race_ethnicity', 'little_birthdate'],\n",
       "      dtype='object')"
      ]
     },
     "execution_count": 37,
     "metadata": {},
     "output_type": "execute_result"
    }
   ],
   "source": [
    "# convert all column to lower case\n",
    "normal_df.columns = (\n",
    "    normal_df.columns.str.strip()  # Remove leading/trailing spaces\n",
    "               .str.replace(':', '_', regex=True)  # Replace colons (`:`) with underscores\n",
    "               .str.replace(r'\\s+', '_', regex=True)  # Replace any spaces with underscores\n",
    ")\n",
    "normal_df.columns = [\n",
    "    x.lower().\\\n",
    "        replace(\"contact: \", \"\").\\\n",
    "        replace(\"finder - \", \"\").\\\n",
    "        replace(\"/\",\"_\").\\\n",
    "        replace(\"_18char\",\"\").\\\n",
    "        replace(\" \", \"_\")\n",
    "    for x in normal_df.columns]\n",
    "normal_df.columns"
   ]
  },
  {
   "cell_type": "code",
   "execution_count": 38,
   "metadata": {},
   "outputs": [
    {
     "name": "stderr",
     "output_type": "stream",
     "text": [
      " 40%|████      | 2/5 [00:23<00:35, 11.70s/it]\n",
      "100%|██████████| 2/2 [00:00<00:00, 46.61it/s]\n"
     ]
    }
   ],
   "source": [
    "# Identify categorical and datetime columns\n",
    "categorical_cols = normal_df.select_dtypes(include=['object']).columns\n",
    "datetime_cols = normal_df.select_dtypes(include=['datetime64']).columns\n",
    "\n",
    "# Store the datetime column separately\n",
    "datetime_normal_df = normal_df[datetime_cols]\n",
    "\n",
    "# Drop the datetime column before imputation\n",
    "normal_df = normal_df.drop(columns=datetime_cols)\n",
    "\n",
    "# Convert categorical columns to 'category' dtype\n",
    "for col in categorical_cols:\n",
    "    normal_df[col] = normal_df[col].astype('category')\n",
    "\n",
    "# Save category mappings for conversion after imputation\n",
    "category_mappings = {col: dict(enumerate(normal_df[col].cat.categories)) for col in categorical_cols}\n",
    "\n",
    "# Convert categorical columns to numerical codes\n",
    "for col in categorical_cols:\n",
    "    normal_df[col] = normal_df[col].cat.codes\n",
    "    normal_df[col].replace(-1, np.nan, inplace=True)  # Keep missing values as NaN\n",
    "\n",
    "# Initialize MissForest imputer\n",
    "imputer = MissForest()\n",
    "\n",
    "# Perform imputation\n",
    "imputed_normal_df = imputer.fit_transform(normal_df)\n",
    "\n",
    "# Convert back to normal_dfFrame\n",
    "imputed_normal_df = pd.DataFrame(imputed_normal_df, columns=normal_df.columns)\n",
    "\n",
    "# Convert categorical columns back to original categories\n",
    "for col in categorical_cols:\n",
    "    imputed_normal_df[col] = imputed_normal_df[col].round().astype(int)\n",
    "    imputed_normal_df[col] = imputed_normal_df[col].map(category_mappings[col])\n",
    "\n",
    "# Add the datetime column back\n",
    "imputed_normal_df = pd.concat([imputed_normal_df, datetime_normal_df.reset_index(drop=True)], axis=1)"
   ]
  },
  {
   "cell_type": "code",
   "execution_count": 39,
   "metadata": {},
   "outputs": [
    {
     "data": {
      "text/plain": [
       "(2566, 13)"
      ]
     },
     "execution_count": 39,
     "metadata": {},
     "output_type": "execute_result"
    }
   ],
   "source": [
    "imputed_normal_df['big_race_ethnicity'].dropna(inplace=True, axis=0)\n",
    "imputed_normal_df.shape"
   ]
  },
  {
   "cell_type": "code",
   "execution_count": 49,
   "metadata": {},
   "outputs": [],
   "source": [
    "imputed_normal_df = imputed_normal_df.groupby(\"match_id\").first()"
   ]
  },
  {
   "cell_type": "code",
   "execution_count": 50,
   "metadata": {},
   "outputs": [
    {
     "data": {
      "text/html": [
       "<div>\n",
       "<style scoped>\n",
       "    .dataframe tbody tr th:only-of-type {\n",
       "        vertical-align: middle;\n",
       "    }\n",
       "\n",
       "    .dataframe tbody tr th {\n",
       "        vertical-align: top;\n",
       "    }\n",
       "\n",
       "    .dataframe thead th {\n",
       "        text-align: right;\n",
       "    }\n",
       "</style>\n",
       "<table border=\"1\" class=\"dataframe\">\n",
       "  <thead>\n",
       "    <tr style=\"text-align: right;\">\n",
       "      <th></th>\n",
       "      <th>match_id</th>\n",
       "      <th>completion_date</th>\n",
       "      <th>contact_notes</th>\n",
       "    </tr>\n",
       "  </thead>\n",
       "  <tbody>\n",
       "    <tr>\n",
       "      <th>0</th>\n",
       "      <td>a1v2J0000027CXKQA2</td>\n",
       "      <td>2017-12-20</td>\n",
       "      <td>Question: Activities:           Answer: BB and...</td>\n",
       "    </tr>\n",
       "    <tr>\n",
       "      <th>1</th>\n",
       "      <td>a1v2J0000027CXKQA2</td>\n",
       "      <td>2018-01-19</td>\n",
       "      <td>Question: Activities:           Answer: BB and...</td>\n",
       "    </tr>\n",
       "    <tr>\n",
       "      <th>3</th>\n",
       "      <td>a1v2J0000027JFCQA2</td>\n",
       "      <td>2018-12-05</td>\n",
       "      <td>Question: Activities:           Answer: MEC me...</td>\n",
       "    </tr>\n",
       "    <tr>\n",
       "      <th>4</th>\n",
       "      <td>a1v2J0000027JFCQA2</td>\n",
       "      <td>2019-02-14</td>\n",
       "      <td>Question: Activities:           Answer: MEC sp...</td>\n",
       "    </tr>\n",
       "    <tr>\n",
       "      <th>5</th>\n",
       "      <td>a1v2J0000027JFCQA2</td>\n",
       "      <td>2019-05-21</td>\n",
       "      <td>MEC started the conversation by asking how thi...</td>\n",
       "    </tr>\n",
       "  </tbody>\n",
       "</table>\n",
       "</div>"
      ],
      "text/plain": [
       "             match_id completion_date  \\\n",
       "0  a1v2J0000027CXKQA2      2017-12-20   \n",
       "1  a1v2J0000027CXKQA2      2018-01-19   \n",
       "3  a1v2J0000027JFCQA2      2018-12-05   \n",
       "4  a1v2J0000027JFCQA2      2019-02-14   \n",
       "5  a1v2J0000027JFCQA2      2019-05-21   \n",
       "\n",
       "                                       contact_notes  \n",
       "0  Question: Activities:           Answer: BB and...  \n",
       "1  Question: Activities:           Answer: BB and...  \n",
       "3  Question: Activities:           Answer: MEC me...  \n",
       "4  Question: Activities:           Answer: MEC sp...  \n",
       "5  MEC started the conversation by asking how thi...  "
      ]
     },
     "execution_count": 50,
     "metadata": {},
     "output_type": "execute_result"
    }
   ],
   "source": [
    "\n",
    "contact_note_df.rename({\n",
    "    'Match ID 18Char': \"match_id\",\n",
    "    'Completion Date':'completion_date',\n",
    "    \"Match Support Contact Notes\":\"contact_notes\"\n",
    "},axis=1, inplace=True)\n",
    "contact_note_df.head()"
   ]
  },
  {
   "cell_type": "code",
   "execution_count": 51,
   "metadata": {},
   "outputs": [],
   "source": [
    "contact_note_df.dropna(axis=0, inplace=True)"
   ]
  },
  {
   "cell_type": "code",
   "execution_count": 52,
   "metadata": {},
   "outputs": [
    {
     "data": {
      "text/plain": [
       "(2465, 3)"
      ]
     },
     "execution_count": 52,
     "metadata": {},
     "output_type": "execute_result"
    }
   ],
   "source": [
    "contact_note_df.shape"
   ]
  },
  {
   "cell_type": "code",
   "execution_count": 53,
   "metadata": {},
   "outputs": [],
   "source": [
    "join_df = pd.merge(contact_note_df, imputed_normal_df, how='left', on='match_id')"
   ]
  },
  {
   "cell_type": "code",
   "execution_count": 54,
   "metadata": {},
   "outputs": [
    {
     "data": {
      "text/plain": [
       "match_id                              0\n",
       "completion_date                       0\n",
       "contact_notes                         0\n",
       "big_age                               0\n",
       "big_occupation                        0\n",
       "big_gender                            0\n",
       "program                               0\n",
       "program_type                          0\n",
       "big_race_ethnicity                    0\n",
       "rationale_for_match                   0\n",
       "little_gender                         0\n",
       "little_participant__race_ethnicity    0\n",
       "big_birthdate                         0\n",
       "match_activation_date                 0\n",
       "little_birthdate                      0\n",
       "dtype: int64"
      ]
     },
     "execution_count": 54,
     "metadata": {},
     "output_type": "execute_result"
    }
   ],
   "source": [
    "join_df.isna().sum()"
   ]
  },
  {
   "cell_type": "code",
   "execution_count": 55,
   "metadata": {},
   "outputs": [
    {
     "data": {
      "text/plain": [
       "(2465, 15)"
      ]
     },
     "execution_count": 55,
     "metadata": {},
     "output_type": "execute_result"
    }
   ],
   "source": [
    "join_df.shape"
   ]
  },
  {
   "cell_type": "code",
   "execution_count": 56,
   "metadata": {},
   "outputs": [],
   "source": [
    "join_df.to_excel(\"data/cleaning.xlsx\", index=False)"
   ]
  }
 ],
 "metadata": {
  "kernelspec": {
   "display_name": "env_x86",
   "language": "python",
   "name": "python3"
  },
  "language_info": {
   "codemirror_mode": {
    "name": "ipython",
    "version": 3
   },
   "file_extension": ".py",
   "mimetype": "text/x-python",
   "name": "python",
   "nbconvert_exporter": "python",
   "pygments_lexer": "ipython3",
   "version": "3.12.9"
  }
 },
 "nbformat": 4,
 "nbformat_minor": 2
}
