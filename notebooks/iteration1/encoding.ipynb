{
 "cells": [
  {
   "cell_type": "code",
   "execution_count": 2,
   "metadata": {},
   "outputs": [],
   "source": [
    "import pandas as pd\n",
    "import numpy as np\n",
    "import seaborn as sns"
   ]
  },
  {
   "cell_type": "code",
   "execution_count": 3,
   "metadata": {},
   "outputs": [],
   "source": [
    "df = pd.read_excel(\"../../data/interim/cleaned_v2.xlsx\")"
   ]
  },
  {
   "cell_type": "code",
   "execution_count": 4,
   "metadata": {},
   "outputs": [],
   "source": [
    "# Mapping occupation categories from the provided list into a busyness scale (1-5)\n",
    "busyness_mapping = {\n",
    "    # 1: Very Low Busyness (Retired, Unemployed, Fully Flexible)\n",
    "    \"Retired\": 1, \"Homemaker\": 1, \"Unemployed\": 1, \"Disabled\": 1,\n",
    "\n",
    "    # 2: Low Busyness (Flexible, Light Workload)\n",
    "    \"Self-Employed, Entrepreneur\": 2, \"Barber/Hairstylist\": 2, \"Clergy\": 2, \n",
    "    \"Librarian\": 2, \"Personal Trainer/Coach\": 2, \"Child/Day Care Worker\": 2,\n",
    "    \"Agriculture\": 2, \"Forestry\": 2, \"Facilities/Maintenance\": 2,\n",
    "\n",
    "    # 3: Moderate Busyness (Structured, Somewhat Demanding)\n",
    "    \"Education: Teacher\": 3, \"Education: Teacher Asst/Aid\": 3, \"Medical: Nurse\": 3, \n",
    "    \"Customer Service\": 3, \"Human Services: Social Worker\": 3, \"Human Services: Non-Profit\": 3,\n",
    "    \"Factory Worker\": 3, \"Retail: Sales\": 3, \"Retail: Mgt\": 3, \"Insurance\": 3, \"Govt: Clerical\": 3,\n",
    "    \"Laborer\": 3, \"Service: Restaurant\": 3, \"Service: Hotel\": 3, \"Law: Security Officer\": 3, \n",
    "    \"Landscaper/Groundskeeper\": 3, \"Firefighter\": 3, \"Transport: Driver\": 3, \"Transport: Mechanic\": 3,\n",
    "    \"Journalist/Media\": 3, \"Architect\": 3, \"Tech: Support, Writing\": 3,\n",
    "\n",
    "    # 4: Busy (High Responsibility, Less Flexibility)\n",
    "    \"Tech: Engineer\": 4, \"Finance: Accountant\": 4, \"Business: Marketing\": 4, \"Consultant\": 4,\n",
    "    \"Transport: Pilot\": 4, \"Law: Police Officer\": 4, \"Business: Human Resources\": 4, \n",
    "    \"Finance: Banking\": 4, \"Finance: Auditor\": 4, \"Tech: Computer/Programmer\": 4, \n",
    "    \"Medical: Doctor, Provider\": 4, \"Scientist\": 4, \"Tech: Research/Design\": 4,\n",
    "    \"Law: Paralegal\": 4, \"Govt: Technician\": 4, \"Transport: Flight Attendant\": 4,\n",
    "    \"Medical: Pharmacist\": 4, \"Education: Admin\": 4, \"Tech: Production Line\": 4,\n",
    "\n",
    "    # 5: Very Busy (Executives, Lawyers, Senior Management)\n",
    "    \"Business: Mgt, Admin\": 5, \"Law: Lawyer\": 5, \"Law: Judge\": 5, \"Govt: Mgmt/Admin\": 5,\n",
    "    \"Finance: Economist\": 5, \"Tech: Management\": 5, \"Education: College Professor\": 5,\n",
    "    \"Investment Banker\": 5, \"Real Estate: Realtor\": 5\n",
    "}\n",
    "\n",
    "# Function to assign busyness score\n",
    "def get_busyness(occupation):\n",
    "    return busyness_mapping.get(occupation, 3)  # Default to 3 if not found (moderate busyness)\n"
   ]
  },
  {
   "cell_type": "code",
   "execution_count": 5,
   "metadata": {},
   "outputs": [],
   "source": [
    "df[\"busyness_level\"] = df[\"big_occupation\"].apply(get_busyness)"
   ]
  },
  {
   "cell_type": "code",
   "execution_count": 6,
   "metadata": {},
   "outputs": [],
   "source": [
    "# some features engineering\n",
    "df[\"big_age_match_start\"] = abs(df['big_birthdate'].dt.year - df[\"match_activation_date\"].dt.year)\n",
    "df[\"little_age_match_start\"] = abs(df['little_birthdate'].dt.year - df[\"match_activation_date\"].dt.year)\n",
    "df[\"same_gender\"] = df['little_gender']==df['big_gender']\n",
    "\n"
   ]
  },
  {
   "cell_type": "code",
   "execution_count": 7,
   "metadata": {},
   "outputs": [],
   "source": [
    "df.drop([\n",
    "    \"big_occupation\", \"big_gender\", \"little_gender\", \"big_birthdate\",\n",
    "    \"match_activation_date\", \"little_birthdate\", \"late_stage_notes\", \"early_stage_notes\",\n",
    "    \"program\", \n",
    "], axis=1, inplace=True)"
   ]
  },
  {
   "cell_type": "code",
   "execution_count": 8,
   "metadata": {},
   "outputs": [],
   "source": [
    "# Tokenize and compute Jaccard Similarity (intersection / union)\n",
    "def jaccard_similarity(str1, str2):\n",
    "    set1 = set(str(str1).lower().split(' '))\n",
    "    set2 = set(str(str2).lower().split(' '))\n",
    "    intersection = set1.intersection(set2)\n",
    "    union = set1.union(set2)\n",
    "    return len(intersection) / len(union)\n",
    "\n",
    "df['race_similarity'] = df.apply(lambda row: jaccard_similarity(row['big_race_ethnicity'], row['little_participant__race_ethnicity']), axis=1)\n"
   ]
  }
 ],
 "metadata": {
  "kernelspec": {
   "display_name": "env_x86",
   "language": "python",
   "name": "python3"
  },
  "language_info": {
   "codemirror_mode": {
    "name": "ipython",
    "version": 3
   },
   "file_extension": ".py",
   "mimetype": "text/x-python",
   "name": "python",
   "nbconvert_exporter": "python",
   "pygments_lexer": "ipython3",
   "version": "3.12.9"
  }
 },
 "nbformat": 4,
 "nbformat_minor": 2
}
