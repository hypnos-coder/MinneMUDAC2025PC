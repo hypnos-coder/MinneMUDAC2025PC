{
 "cells": [
  {
   "cell_type": "code",
   "execution_count": 107,
   "metadata": {},
   "outputs": [],
   "source": [
    "import pandas as pd\n",
    "import numpy as np\n",
    "import seaborn as sns"
   ]
  },
  {
   "cell_type": "code",
   "execution_count": 108,
   "metadata": {},
   "outputs": [
    {
     "data": {
      "text/html": [
       "<div>\n",
       "<style scoped>\n",
       "    .dataframe tbody tr th:only-of-type {\n",
       "        vertical-align: middle;\n",
       "    }\n",
       "\n",
       "    .dataframe tbody tr th {\n",
       "        vertical-align: top;\n",
       "    }\n",
       "\n",
       "    .dataframe thead th {\n",
       "        text-align: right;\n",
       "    }\n",
       "</style>\n",
       "<table border=\"1\" class=\"dataframe\">\n",
       "  <thead>\n",
       "    <tr style=\"text-align: right;\">\n",
       "      <th></th>\n",
       "      <th>match_id</th>\n",
       "      <th>big_age</th>\n",
       "      <th>big_occupation</th>\n",
       "      <th>big_gender</th>\n",
       "      <th>program</th>\n",
       "      <th>program_type</th>\n",
       "      <th>big_race_ethnicity</th>\n",
       "      <th>rationale_for_match</th>\n",
       "      <th>little_gender</th>\n",
       "      <th>little_participant__race_ethnicity</th>\n",
       "      <th>...</th>\n",
       "      <th>big_birthdate</th>\n",
       "      <th>match_activation_date</th>\n",
       "      <th>little_birthdate</th>\n",
       "      <th>avg_cadence_day</th>\n",
       "      <th>early_stage_notes</th>\n",
       "      <th>late_stage_notes</th>\n",
       "      <th>early_stage_score</th>\n",
       "      <th>late_stage_score</th>\n",
       "      <th>sentiment_change</th>\n",
       "      <th>sentiment_trend</th>\n",
       "    </tr>\n",
       "  </thead>\n",
       "  <tbody>\n",
       "    <tr>\n",
       "      <th>0</th>\n",
       "      <td>a1v2J0000027CWYQA2</td>\n",
       "      <td>25</td>\n",
       "      <td>Student: High School</td>\n",
       "      <td>Female</td>\n",
       "      <td>YIP 2016</td>\n",
       "      <td>Site</td>\n",
       "      <td>Asian;</td>\n",
       "      <td>Big, little and parent were in agreement with ...</td>\n",
       "      <td>Female</td>\n",
       "      <td>Asian</td>\n",
       "      <td>...</td>\n",
       "      <td>1999-10-01</td>\n",
       "      <td>2017-03-16</td>\n",
       "      <td>2005-10-01</td>\n",
       "      <td>35.000000</td>\n",
       "      <td>Question: Activities:           Answer: BS ass...</td>\n",
       "      <td>Question: Activities:           Answer: When a...</td>\n",
       "      <td>0.7650</td>\n",
       "      <td>0.9905</td>\n",
       "      <td>0.2255</td>\n",
       "      <td>Stable</td>\n",
       "    </tr>\n",
       "    <tr>\n",
       "      <th>1</th>\n",
       "      <td>a1v2J0000027CWfQAM</td>\n",
       "      <td>26</td>\n",
       "      <td>Student: College</td>\n",
       "      <td>Female</td>\n",
       "      <td>YIP 2016</td>\n",
       "      <td>Site</td>\n",
       "      <td>White or Caucasian;</td>\n",
       "      <td>Both seem to like the arts, books, and present...</td>\n",
       "      <td>Female</td>\n",
       "      <td>Black or African American</td>\n",
       "      <td>...</td>\n",
       "      <td>1998-06-01</td>\n",
       "      <td>2017-01-23</td>\n",
       "      <td>2006-08-01</td>\n",
       "      <td>46.200000</td>\n",
       "      <td>Question: Activities:           Answer: Sami a...</td>\n",
       "      <td>Question: Activities:           Answer: L_firs...</td>\n",
       "      <td>0.9987</td>\n",
       "      <td>0.9913</td>\n",
       "      <td>-0.0074</td>\n",
       "      <td>Stable</td>\n",
       "    </tr>\n",
       "    <tr>\n",
       "      <th>2</th>\n",
       "      <td>a1v2J0000027CWiQAM</td>\n",
       "      <td>27</td>\n",
       "      <td>Student: High School</td>\n",
       "      <td>Female</td>\n",
       "      <td>YIP 2016</td>\n",
       "      <td>Site</td>\n",
       "      <td>Asian;</td>\n",
       "      <td>Both BS and LB share similar interests. BS has...</td>\n",
       "      <td>Female</td>\n",
       "      <td>Asian</td>\n",
       "      <td>...</td>\n",
       "      <td>1998-02-01</td>\n",
       "      <td>2017-02-01</td>\n",
       "      <td>2005-10-01</td>\n",
       "      <td>35.333333</td>\n",
       "      <td>Question: Activities:           Answer: BS has...</td>\n",
       "      <td>Question: Activities:           Answer: BS sai...</td>\n",
       "      <td>0.9612</td>\n",
       "      <td>0.9893</td>\n",
       "      <td>0.0281</td>\n",
       "      <td>Stable</td>\n",
       "    </tr>\n",
       "    <tr>\n",
       "      <th>3</th>\n",
       "      <td>a1v2J0000027CWoQAM</td>\n",
       "      <td>25</td>\n",
       "      <td>Student: High School</td>\n",
       "      <td>Female</td>\n",
       "      <td>YIP 2016</td>\n",
       "      <td>Site</td>\n",
       "      <td>Asian;</td>\n",
       "      <td>B_first_name was open to the little that he is...</td>\n",
       "      <td>Female</td>\n",
       "      <td>Asian</td>\n",
       "      <td>...</td>\n",
       "      <td>1999-11-01</td>\n",
       "      <td>2017-03-16</td>\n",
       "      <td>2009-04-01</td>\n",
       "      <td>43.750000</td>\n",
       "      <td>Question: Activities:           Answer: BS pla...</td>\n",
       "      <td>Question: Activities:           Answer: This m...</td>\n",
       "      <td>0.9972</td>\n",
       "      <td>0.4696</td>\n",
       "      <td>-0.5276</td>\n",
       "      <td>Declined</td>\n",
       "    </tr>\n",
       "    <tr>\n",
       "      <th>4</th>\n",
       "      <td>a1v2J0000027CWpQAM</td>\n",
       "      <td>27</td>\n",
       "      <td>Student: College</td>\n",
       "      <td>Male</td>\n",
       "      <td>YIP 2016</td>\n",
       "      <td>Site</td>\n",
       "      <td>White or Caucasian;</td>\n",
       "      <td>Distance is 8 miles (21 mins). Both are talkti...</td>\n",
       "      <td>Male</td>\n",
       "      <td>Black or African American</td>\n",
       "      <td>...</td>\n",
       "      <td>1997-09-01</td>\n",
       "      <td>2017-01-26</td>\n",
       "      <td>2006-11-01</td>\n",
       "      <td>45.750000</td>\n",
       "      <td>Question: Activities:           Answer: B_firs...</td>\n",
       "      <td>Question: Activities:           Answer: B_firs...</td>\n",
       "      <td>0.9995</td>\n",
       "      <td>0.9825</td>\n",
       "      <td>-0.0170</td>\n",
       "      <td>Stable</td>\n",
       "    </tr>\n",
       "  </tbody>\n",
       "</table>\n",
       "<p>5 rows × 21 columns</p>\n",
       "</div>"
      ],
      "text/plain": [
       "             match_id  big_age        big_occupation big_gender   program  \\\n",
       "0  a1v2J0000027CWYQA2       25  Student: High School     Female  YIP 2016   \n",
       "1  a1v2J0000027CWfQAM       26      Student: College     Female  YIP 2016   \n",
       "2  a1v2J0000027CWiQAM       27  Student: High School     Female  YIP 2016   \n",
       "3  a1v2J0000027CWoQAM       25  Student: High School     Female  YIP 2016   \n",
       "4  a1v2J0000027CWpQAM       27      Student: College       Male  YIP 2016   \n",
       "\n",
       "  program_type   big_race_ethnicity  \\\n",
       "0         Site               Asian;   \n",
       "1         Site  White or Caucasian;   \n",
       "2         Site               Asian;   \n",
       "3         Site               Asian;   \n",
       "4         Site  White or Caucasian;   \n",
       "\n",
       "                                 rationale_for_match little_gender  \\\n",
       "0  Big, little and parent were in agreement with ...        Female   \n",
       "1  Both seem to like the arts, books, and present...        Female   \n",
       "2  Both BS and LB share similar interests. BS has...        Female   \n",
       "3  B_first_name was open to the little that he is...        Female   \n",
       "4  Distance is 8 miles (21 mins). Both are talkti...          Male   \n",
       "\n",
       "  little_participant__race_ethnicity  ...  big_birthdate  \\\n",
       "0                              Asian  ...     1999-10-01   \n",
       "1          Black or African American  ...     1998-06-01   \n",
       "2                              Asian  ...     1998-02-01   \n",
       "3                              Asian  ...     1999-11-01   \n",
       "4          Black or African American  ...     1997-09-01   \n",
       "\n",
       "  match_activation_date little_birthdate avg_cadence_day  \\\n",
       "0            2017-03-16       2005-10-01       35.000000   \n",
       "1            2017-01-23       2006-08-01       46.200000   \n",
       "2            2017-02-01       2005-10-01       35.333333   \n",
       "3            2017-03-16       2009-04-01       43.750000   \n",
       "4            2017-01-26       2006-11-01       45.750000   \n",
       "\n",
       "                                   early_stage_notes  \\\n",
       "0  Question: Activities:           Answer: BS ass...   \n",
       "1  Question: Activities:           Answer: Sami a...   \n",
       "2  Question: Activities:           Answer: BS has...   \n",
       "3  Question: Activities:           Answer: BS pla...   \n",
       "4  Question: Activities:           Answer: B_firs...   \n",
       "\n",
       "                                    late_stage_notes early_stage_score  \\\n",
       "0  Question: Activities:           Answer: When a...            0.7650   \n",
       "1  Question: Activities:           Answer: L_firs...            0.9987   \n",
       "2  Question: Activities:           Answer: BS sai...            0.9612   \n",
       "3  Question: Activities:           Answer: This m...            0.9972   \n",
       "4  Question: Activities:           Answer: B_firs...            0.9995   \n",
       "\n",
       "   late_stage_score  sentiment_change  sentiment_trend  \n",
       "0            0.9905            0.2255           Stable  \n",
       "1            0.9913           -0.0074           Stable  \n",
       "2            0.9893            0.0281           Stable  \n",
       "3            0.4696           -0.5276         Declined  \n",
       "4            0.9825           -0.0170           Stable  \n",
       "\n",
       "[5 rows x 21 columns]"
      ]
     },
     "execution_count": 108,
     "metadata": {},
     "output_type": "execute_result"
    }
   ],
   "source": [
    "df = pd.read_excel(\"../../data/interim/cleaned_v2.xlsx\")\n",
    "df.head()"
   ]
  },
  {
   "cell_type": "code",
   "execution_count": 109,
   "metadata": {},
   "outputs": [
    {
     "data": {
      "text/plain": [
       "array(['Student: High School', 'Student: College',\n",
       "       'Human Services: Social Worker', 'Retired',\n",
       "       'Medical: Healthcare Worker', 'Business', 'Medical',\n",
       "       'Education: Admin', 'Unknown', 'Business: Sales', 'Finance',\n",
       "       'Business: Mgt, Admin', 'Law', 'Education', 'Law: Police Officer',\n",
       "       'Business: Engineer', 'Business: Marketing', 'Unemployed',\n",
       "       'Medical: Nurse', 'Military', 'Consultant', 'Finance: Accountant',\n",
       "       'Tech: Support, Writing', 'Barber/Hairstylist', 'Govt',\n",
       "       'Education: College Professor', 'Human Services: Youth Worker',\n",
       "       'Human Services: Non-Profit', 'Govt: Mgmt/Admin',\n",
       "       'Real Estate: Realtor', 'Business: Clerical', 'Tech: Engineer',\n",
       "       'Arts, Entertainment, Sports', 'Medical: Admin', 'Construction',\n",
       "       'Education: Teacher', 'Customer Service',\n",
       "       'Business: Human Resources', 'Tech: Production Line',\n",
       "       'Self-Employed, Entrepreneur', 'Law: Lawyer',\n",
       "       'Service: Restaurant', 'Education: Teacher Asst/Aid',\n",
       "       'Journalist/Media', 'Transport: Pilot', 'Child/Day Care Worker',\n",
       "       'Insurance', 'Finance: Auditor', 'Firefighter',\n",
       "       'Tech: Computer/Programmer', 'Tech: Management',\n",
       "       'Tech: Research/Design', 'Medical: Doctor, Provider',\n",
       "       'Finance: Banking', 'Architect', 'Govt: Clerical',\n",
       "       'Service: Hotel', 'Transport: Driver', 'Law: Security Officer',\n",
       "       'Retail: Sales', 'Retail: Mgt', 'Human Services', 'Laborer',\n",
       "       'Librarian', 'Tech: Sales, Mktg', 'Homemaker', 'Law: Paralegal',\n",
       "       'Govt: Technician', 'Human Services: Psychologist',\n",
       "       'Transport: Flight Attendant', 'Personal Trainer/Coach',\n",
       "       'Agriculture', 'Finance: Economist', 'Forestry',\n",
       "       'Facilities/Maintenance', 'Service: Tourism', 'Clergy',\n",
       "       'Finance: Tax/Preparer', 'Factory Worker', 'Engineer',\n",
       "       'Medical: Pharmacist', 'Transport: Mechanic',\n",
       "       'Landscaper/Groundskeeper', 'Law: Judge', 'Scientist', 'Craftsman',\n",
       "       'Disabled'], dtype=object)"
      ]
     },
     "execution_count": 109,
     "metadata": {},
     "output_type": "execute_result"
    }
   ],
   "source": [
    "df['big_occupation'].unique()"
   ]
  },
  {
   "cell_type": "code",
   "execution_count": 110,
   "metadata": {},
   "outputs": [],
   "source": [
    "# Mapping occupation categories from the provided list into a busyness scale (1-5)\n",
    "busyness_mapping = {\n",
    "    # 1: Very Low Busyness (Retired, Unemployed, Fully Flexible)\n",
    "    \"Retired\": 1, \"Homemaker\": 1, \"Unemployed\": 1, \"Disabled\": 1,\n",
    "\n",
    "    # 2: Low Busyness (Flexible, Light Workload)\n",
    "    \"Self-Employed, Entrepreneur\": 2, \"Barber/Hairstylist\": 2, \"Clergy\": 2, \n",
    "    \"Librarian\": 2, \"Personal Trainer/Coach\": 2, \"Child/Day Care Worker\": 2,\n",
    "    \"Agriculture\": 2, \"Forestry\": 2, \"Facilities/Maintenance\": 2,\n",
    "\n",
    "    # 3: Moderate Busyness (Structured, Somewhat Demanding)\n",
    "    \"Education: Teacher\": 3, \"Education: Teacher Asst/Aid\": 3, \"Medical: Nurse\": 3, \n",
    "    \"Customer Service\": 3, \"Human Services: Social Worker\": 3, \"Human Services: Non-Profit\": 3,\n",
    "    \"Factory Worker\": 3, \"Retail: Sales\": 3, \"Retail: Mgt\": 3, \"Insurance\": 3, \"Govt: Clerical\": 3,\n",
    "    \"Laborer\": 3, \"Service: Restaurant\": 3, \"Service: Hotel\": 3, \"Law: Security Officer\": 3, \n",
    "    \"Landscaper/Groundskeeper\": 3, \"Firefighter\": 3, \"Transport: Driver\": 3, \"Transport: Mechanic\": 3,\n",
    "    \"Journalist/Media\": 3, \"Architect\": 3, \"Tech: Support, Writing\": 3,\n",
    "\n",
    "    # 4: Busy (High Responsibility, Less Flexibility)\n",
    "    \"Tech: Engineer\": 4, \"Finance: Accountant\": 4, \"Business: Marketing\": 4, \"Consultant\": 4,\n",
    "    \"Transport: Pilot\": 4, \"Law: Police Officer\": 4, \"Business: Human Resources\": 4, \n",
    "    \"Finance: Banking\": 4, \"Finance: Auditor\": 4, \"Tech: Computer/Programmer\": 4, \n",
    "    \"Medical: Doctor, Provider\": 4, \"Scientist\": 4, \"Tech: Research/Design\": 4,\n",
    "    \"Law: Paralegal\": 4, \"Govt: Technician\": 4, \"Transport: Flight Attendant\": 4,\n",
    "    \"Medical: Pharmacist\": 4, \"Education: Admin\": 4, \"Tech: Production Line\": 4,\n",
    "\n",
    "    # 5: Very Busy (Executives, Lawyers, Senior Management)\n",
    "    \"Business: Mgt, Admin\": 5, \"Law: Lawyer\": 5, \"Law: Judge\": 5, \"Govt: Mgmt/Admin\": 5,\n",
    "    \"Finance: Economist\": 5, \"Tech: Management\": 5, \"Education: College Professor\": 5,\n",
    "    \"Investment Banker\": 5, \"Real Estate: Realtor\": 5\n",
    "}\n",
    "\n",
    "# Function to assign busyness score\n",
    "def get_busyness(occupation):\n",
    "    return busyness_mapping.get(occupation, 3)  # Default to 3 if not found (moderate busyness)\n"
   ]
  },
  {
   "cell_type": "code",
   "execution_count": 111,
   "metadata": {},
   "outputs": [
    {
     "data": {
      "text/plain": [
       "busyness_level\n",
       "3    2111\n",
       "4     716\n",
       "5     273\n",
       "2      86\n",
       "1      78\n",
       "Name: count, dtype: int64"
      ]
     },
     "execution_count": 111,
     "metadata": {},
     "output_type": "execute_result"
    }
   ],
   "source": [
    "df[\"busyness_level\"] = df[\"big_occupation\"].apply(get_busyness)\n",
    "df['busyness_level'].value_counts()"
   ]
  },
  {
   "cell_type": "code",
   "execution_count": 112,
   "metadata": {},
   "outputs": [
    {
     "data": {
      "text/plain": [
       "<Axes: xlabel='busyness_level', ylabel='match_length'>"
      ]
     },
     "execution_count": 112,
     "metadata": {},
     "output_type": "execute_result"
    },
    {
     "data": {
      "image/png": "[encoded data removed]",
      "text/plain": [
       "<Figure size 640x480 with 1 Axes>"
      ]
     },
     "metadata": {},
     "output_type": "display_data"
    }
   ],
   "source": [
    "sns.barplot(x=df['busyness_level'], y=df['match_length'])"
   ]
  },
  {
   "cell_type": "code",
   "execution_count": 113,
   "metadata": {},
   "outputs": [],
   "source": [
    "# some features engineering\n",
    "df[\"big_age_match_start\"] = abs(df['big_birthdate'].dt.year - df[\"match_activation_date\"].dt.year)\n",
    "df[\"little_age_match_start\"] = abs(df['little_birthdate'].dt.year - df[\"match_activation_date\"].dt.year)\n",
    "df[\"same_gender\"] = df['little_gender']==df['big_gender']\n",
    "\n"
   ]
  },
  {
   "cell_type": "code",
   "execution_count": 114,
   "metadata": {},
   "outputs": [
    {
     "data": {
      "text/plain": [
       "Index(['match_id', 'big_age', 'big_occupation', 'big_gender', 'program',\n",
       "       'program_type', 'big_race_ethnicity', 'rationale_for_match',\n",
       "       'little_gender', 'little_participant__race_ethnicity', 'match_length',\n",
       "       'big_birthdate', 'match_activation_date', 'little_birthdate',\n",
       "       'avg_cadence_day', 'early_stage_notes', 'late_stage_notes',\n",
       "       'early_stage_score', 'late_stage_score', 'sentiment_change',\n",
       "       'sentiment_trend', 'busyness_level', 'big_age_match_start',\n",
       "       'little_age_match_start', 'same_gender'],\n",
       "      dtype='object')"
      ]
     },
     "execution_count": 114,
     "metadata": {},
     "output_type": "execute_result"
    }
   ],
   "source": [
    "df.columns"
   ]
  },
  {
   "cell_type": "code",
   "execution_count": 115,
   "metadata": {},
   "outputs": [],
   "source": [
    "df.drop([\n",
    "    \"big_occupation\", \"big_gender\", \"little_gender\", \"big_birthdate\",\n",
    "    \"match_activation_date\", \"little_birthdate\", \"late_stage_notes\", \"early_stage_notes\",\n",
    "    \"program\", \n",
    "], axis=1, inplace=True)"
   ]
  },
  {
   "cell_type": "code",
   "execution_count": 116,
   "metadata": {},
   "outputs": [
    {
     "data": {
      "text/html": [
       "<div>\n",
       "<style scoped>\n",
       "    .dataframe tbody tr th:only-of-type {\n",
       "        vertical-align: middle;\n",
       "    }\n",
       "\n",
       "    .dataframe tbody tr th {\n",
       "        vertical-align: top;\n",
       "    }\n",
       "\n",
       "    .dataframe thead th {\n",
       "        text-align: right;\n",
       "    }\n",
       "</style>\n",
       "<table border=\"1\" class=\"dataframe\">\n",
       "  <thead>\n",
       "    <tr style=\"text-align: right;\">\n",
       "      <th></th>\n",
       "      <th>match_id</th>\n",
       "      <th>big_age</th>\n",
       "      <th>program_type</th>\n",
       "      <th>big_race_ethnicity</th>\n",
       "      <th>rationale_for_match</th>\n",
       "      <th>little_participant__race_ethnicity</th>\n",
       "      <th>match_length</th>\n",
       "      <th>avg_cadence_day</th>\n",
       "      <th>early_stage_score</th>\n",
       "      <th>late_stage_score</th>\n",
       "      <th>sentiment_change</th>\n",
       "      <th>sentiment_trend</th>\n",
       "      <th>busyness_level</th>\n",
       "      <th>big_age_match_start</th>\n",
       "      <th>little_age_match_start</th>\n",
       "      <th>same_gender</th>\n",
       "    </tr>\n",
       "  </thead>\n",
       "  <tbody>\n",
       "    <tr>\n",
       "      <th>0</th>\n",
       "      <td>a1v2J0000027CWYQA2</td>\n",
       "      <td>25</td>\n",
       "      <td>Site</td>\n",
       "      <td>Asian;</td>\n",
       "      <td>Big, little and parent were in agreement with ...</td>\n",
       "      <td>Asian</td>\n",
       "      <td>5.5</td>\n",
       "      <td>35.000000</td>\n",
       "      <td>0.7650</td>\n",
       "      <td>0.9905</td>\n",
       "      <td>0.2255</td>\n",
       "      <td>Stable</td>\n",
       "      <td>3</td>\n",
       "      <td>18</td>\n",
       "      <td>12</td>\n",
       "      <td>True</td>\n",
       "    </tr>\n",
       "    <tr>\n",
       "      <th>1</th>\n",
       "      <td>a1v2J0000027CWfQAM</td>\n",
       "      <td>26</td>\n",
       "      <td>Site</td>\n",
       "      <td>White or Caucasian;</td>\n",
       "      <td>Both seem to like the arts, books, and present...</td>\n",
       "      <td>Black or African American</td>\n",
       "      <td>8.5</td>\n",
       "      <td>46.200000</td>\n",
       "      <td>0.9987</td>\n",
       "      <td>0.9913</td>\n",
       "      <td>-0.0074</td>\n",
       "      <td>Stable</td>\n",
       "      <td>3</td>\n",
       "      <td>19</td>\n",
       "      <td>11</td>\n",
       "      <td>True</td>\n",
       "    </tr>\n",
       "    <tr>\n",
       "      <th>2</th>\n",
       "      <td>a1v2J0000027CWiQAM</td>\n",
       "      <td>27</td>\n",
       "      <td>Site</td>\n",
       "      <td>Asian;</td>\n",
       "      <td>Both BS and LB share similar interests. BS has...</td>\n",
       "      <td>Asian</td>\n",
       "      <td>6.9</td>\n",
       "      <td>35.333333</td>\n",
       "      <td>0.9612</td>\n",
       "      <td>0.9893</td>\n",
       "      <td>0.0281</td>\n",
       "      <td>Stable</td>\n",
       "      <td>3</td>\n",
       "      <td>19</td>\n",
       "      <td>12</td>\n",
       "      <td>True</td>\n",
       "    </tr>\n",
       "    <tr>\n",
       "      <th>3</th>\n",
       "      <td>a1v2J0000027CWoQAM</td>\n",
       "      <td>25</td>\n",
       "      <td>Site</td>\n",
       "      <td>Asian;</td>\n",
       "      <td>B_first_name was open to the little that he is...</td>\n",
       "      <td>Asian</td>\n",
       "      <td>7.2</td>\n",
       "      <td>43.750000</td>\n",
       "      <td>0.9972</td>\n",
       "      <td>0.4696</td>\n",
       "      <td>-0.5276</td>\n",
       "      <td>Declined</td>\n",
       "      <td>3</td>\n",
       "      <td>18</td>\n",
       "      <td>8</td>\n",
       "      <td>True</td>\n",
       "    </tr>\n",
       "    <tr>\n",
       "      <th>4</th>\n",
       "      <td>a1v2J0000027CWpQAM</td>\n",
       "      <td>27</td>\n",
       "      <td>Site</td>\n",
       "      <td>White or Caucasian;</td>\n",
       "      <td>Distance is 8 miles (21 mins). Both are talkti...</td>\n",
       "      <td>Black or African American</td>\n",
       "      <td>7.4</td>\n",
       "      <td>45.750000</td>\n",
       "      <td>0.9995</td>\n",
       "      <td>0.9825</td>\n",
       "      <td>-0.0170</td>\n",
       "      <td>Stable</td>\n",
       "      <td>3</td>\n",
       "      <td>20</td>\n",
       "      <td>11</td>\n",
       "      <td>True</td>\n",
       "    </tr>\n",
       "  </tbody>\n",
       "</table>\n",
       "</div>"
      ],
      "text/plain": [
       "             match_id  big_age program_type   big_race_ethnicity  \\\n",
       "0  a1v2J0000027CWYQA2       25         Site               Asian;   \n",
       "1  a1v2J0000027CWfQAM       26         Site  White or Caucasian;   \n",
       "2  a1v2J0000027CWiQAM       27         Site               Asian;   \n",
       "3  a1v2J0000027CWoQAM       25         Site               Asian;   \n",
       "4  a1v2J0000027CWpQAM       27         Site  White or Caucasian;   \n",
       "\n",
       "                                 rationale_for_match  \\\n",
       "0  Big, little and parent were in agreement with ...   \n",
       "1  Both seem to like the arts, books, and present...   \n",
       "2  Both BS and LB share similar interests. BS has...   \n",
       "3  B_first_name was open to the little that he is...   \n",
       "4  Distance is 8 miles (21 mins). Both are talkti...   \n",
       "\n",
       "  little_participant__race_ethnicity  match_length  avg_cadence_day  \\\n",
       "0                              Asian           5.5        35.000000   \n",
       "1          Black or African American           8.5        46.200000   \n",
       "2                              Asian           6.9        35.333333   \n",
       "3                              Asian           7.2        43.750000   \n",
       "4          Black or African American           7.4        45.750000   \n",
       "\n",
       "   early_stage_score  late_stage_score  sentiment_change sentiment_trend  \\\n",
       "0             0.7650            0.9905            0.2255          Stable   \n",
       "1             0.9987            0.9913           -0.0074          Stable   \n",
       "2             0.9612            0.9893            0.0281          Stable   \n",
       "3             0.9972            0.4696           -0.5276        Declined   \n",
       "4             0.9995            0.9825           -0.0170          Stable   \n",
       "\n",
       "   busyness_level  big_age_match_start  little_age_match_start  same_gender  \n",
       "0               3                   18                      12         True  \n",
       "1               3                   19                      11         True  \n",
       "2               3                   19                      12         True  \n",
       "3               3                   18                       8         True  \n",
       "4               3                   20                      11         True  "
      ]
     },
     "execution_count": 116,
     "metadata": {},
     "output_type": "execute_result"
    }
   ],
   "source": [
    "df.head()"
   ]
  },
  {
   "cell_type": "code",
   "execution_count": 117,
   "metadata": {},
   "outputs": [
    {
     "data": {
      "text/plain": [
       "array(['Site', 'Community', 'Site Based Facilitated', 'Site Based Plus'],\n",
       "      dtype=object)"
      ]
     },
     "execution_count": 117,
     "metadata": {},
     "output_type": "execute_result"
    }
   ],
   "source": [
    "df['program_type'].unique()"
   ]
  },
  {
   "cell_type": "code",
   "execution_count": 118,
   "metadata": {},
   "outputs": [
    {
     "data": {
      "text/plain": [
       "<bound method IndexOpsMixin.value_counts of 0       Big, little and parent were in agreement with ...\n",
       "1       Both seem to like the arts, books, and present...\n",
       "2       Both BS and LB share similar interests. BS has...\n",
       "3       B_first_name was open to the little that he is...\n",
       "4       Distance is 8 miles (21 mins). Both are talkti...\n",
       "                              ...                        \n",
       "3259    Distance: 13 min (4.6 mi) Shared Interests: sp...\n",
       "3260    1. Distance: 10 miles (20 mins) 2. Shared Trai...\n",
       "3261    1. Distance: 9 miles (20 mins) 2. Shared Trait...\n",
       "3262    Distance: 9 min (3.7 mi) Shared interests:Spor...\n",
       "3263    They were matched for several reasons. BS has ...\n",
       "Name: rationale_for_match, Length: 3264, dtype: object>"
      ]
     },
     "execution_count": 118,
     "metadata": {},
     "output_type": "execute_result"
    }
   ],
   "source": [
    "df['rationale_for_match'].value_counts"
   ]
  },
  {
   "cell_type": "code",
   "execution_count": 119,
   "metadata": {},
   "outputs": [
    {
     "data": {
      "text/plain": [
       "match_id                               object\n",
       "big_age                                 int64\n",
       "program_type                           object\n",
       "big_race_ethnicity                     object\n",
       "rationale_for_match                    object\n",
       "little_participant__race_ethnicity     object\n",
       "match_length                          float64\n",
       "avg_cadence_day                       float64\n",
       "early_stage_score                     float64\n",
       "late_stage_score                      float64\n",
       "sentiment_change                      float64\n",
       "sentiment_trend                        object\n",
       "busyness_level                          int64\n",
       "big_age_match_start                     int32\n",
       "little_age_match_start                  int32\n",
       "same_gender                              bool\n",
       "dtype: object"
      ]
     },
     "execution_count": 119,
     "metadata": {},
     "output_type": "execute_result"
    }
   ],
   "source": [
    "df.dtypes"
   ]
  },
  {
   "cell_type": "code",
   "execution_count": 120,
   "metadata": {},
   "outputs": [],
   "source": [
    "# Tokenize and compute Jaccard Similarity (intersection / union)\n",
    "def jaccard_similarity(str1, str2):\n",
    "    set1 = set(str(str1).lower().split(' '))\n",
    "    set2 = set(str(str2).lower().split(' '))\n",
    "    intersection = set1.intersection(set2)\n",
    "    union = set1.union(set2)\n",
    "    return len(intersection) / len(union)\n",
    "\n",
    "df['race_similarity'] = df.apply(lambda row: jaccard_similarity(row['big_race_ethnicity'], row['little_participant__race_ethnicity']), axis=1)\n"
   ]
  },
  {
   "cell_type": "code",
   "execution_count": 121,
   "metadata": {},
   "outputs": [
    {
     "data": {
      "text/plain": [
       "Index(['match_id', 'big_age', 'program_type', 'big_race_ethnicity',\n",
       "       'rationale_for_match', 'little_participant__race_ethnicity',\n",
       "       'match_length', 'avg_cadence_day', 'early_stage_score',\n",
       "       'late_stage_score', 'sentiment_change', 'sentiment_trend',\n",
       "       'busyness_level', 'big_age_match_start', 'little_age_match_start',\n",
       "       'same_gender', 'race_similarity'],\n",
       "      dtype='object')"
      ]
     },
     "execution_count": 121,
     "metadata": {},
     "output_type": "execute_result"
    }
   ],
   "source": [
    "df.columns"
   ]
  },
  {
   "cell_type": "code",
   "execution_count": 122,
   "metadata": {},
   "outputs": [],
   "source": [
    "df.drop(['rationale_for_match', \"little_participant__race_ethnicity\", \"big_race_ethnicity\"], axis=1, inplace=True)"
   ]
  },
  {
   "cell_type": "code",
   "execution_count": 123,
   "metadata": {},
   "outputs": [
    {
     "data": {
      "text/plain": [
       "match_id                   object\n",
       "big_age                     int64\n",
       "program_type               object\n",
       "match_length              float64\n",
       "avg_cadence_day           float64\n",
       "early_stage_score         float64\n",
       "late_stage_score          float64\n",
       "sentiment_change          float64\n",
       "sentiment_trend            object\n",
       "busyness_level              int64\n",
       "big_age_match_start         int32\n",
       "little_age_match_start      int32\n",
       "same_gender                  bool\n",
       "race_similarity           float64\n",
       "dtype: object"
      ]
     },
     "execution_count": 123,
     "metadata": {},
     "output_type": "execute_result"
    }
   ],
   "source": [
    "df.dtypes"
   ]
  },
  {
   "cell_type": "code",
   "execution_count": 124,
   "metadata": {},
   "outputs": [],
   "source": [
    "# df = pd.get_dummies(df, columns=[\"program_type\"])\n",
    "# df"
   ]
  },
  {
   "cell_type": "code",
   "execution_count": 125,
   "metadata": {},
   "outputs": [],
   "source": [
    "df.to_excel(\"../../data/interim/modeling.xlsx\", index=False)"
   ]
  },
  {
   "cell_type": "code",
   "execution_count": null,
   "metadata": {},
   "outputs": [],
   "source": []
  }
 ],
 "metadata": {
  "kernelspec": {
   "display_name": "env_x86",
   "language": "python",
   "name": "python3"
  },
  "language_info": {
   "codemirror_mode": {
    "name": "ipython",
    "version": 3
   },
   "file_extension": ".py",
   "mimetype": "text/x-python",
   "name": "python",
   "nbconvert_exporter": "python",
   "pygments_lexer": "ipython3",
   "version": "3.12.9"
  }
 },
 "nbformat": 4,
 "nbformat_minor": 2
}
