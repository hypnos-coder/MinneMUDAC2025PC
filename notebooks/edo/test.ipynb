{
 "cells": [
  {
   "cell_type": "code",
   "execution_count": 2,
   "metadata": {},
   "outputs": [],
   "source": [
    "import pandas as pd\n",
    "import numpy as np\n",
    "import seaborn as sns"
   ]
  },
  {
   "cell_type": "code",
   "execution_count": 18,
   "metadata": {},
   "outputs": [
    {
     "data": {
      "text/html": [
       "<div>\n",
       "<style scoped>\n",
       "    .dataframe tbody tr th:only-of-type {\n",
       "        vertical-align: middle;\n",
       "    }\n",
       "\n",
       "    .dataframe tbody tr th {\n",
       "        vertical-align: top;\n",
       "    }\n",
       "\n",
       "    .dataframe thead th {\n",
       "        text-align: right;\n",
       "    }\n",
       "</style>\n",
       "<table border=\"1\" class=\"dataframe\">\n",
       "  <thead>\n",
       "    <tr style=\"text-align: right;\">\n",
       "      <th></th>\n",
       "      <th>Match ID 18Char</th>\n",
       "      <th>Stage</th>\n",
       "      <th>Little ID</th>\n",
       "      <th>Big ID</th>\n",
       "      <th>Big County</th>\n",
       "      <th>Big Age</th>\n",
       "      <th>Big Occupation</th>\n",
       "      <th>Big: Military</th>\n",
       "      <th>Big Approved Date</th>\n",
       "      <th>Big Level of Education</th>\n",
       "      <th>...</th>\n",
       "      <th>Little Contact: Interest Finder - Career</th>\n",
       "      <th>Little Contact: Interest Finder - Personality</th>\n",
       "      <th>Little Contact: Interest Finder - Three Wishes</th>\n",
       "      <th>Little Gender</th>\n",
       "      <th>Little Participant: Race/Ethnicity</th>\n",
       "      <th>Little Birthdate</th>\n",
       "      <th>Little Mailing Address Census Block Group</th>\n",
       "      <th>Big Home Census Block Group</th>\n",
       "      <th>Big Employer/School Census Block Group</th>\n",
       "      <th>Match Length</th>\n",
       "    </tr>\n",
       "  </thead>\n",
       "  <tbody>\n",
       "    <tr>\n",
       "      <th>0</th>\n",
       "      <td>a1v2J0000028pRvQAI</td>\n",
       "      <td>Closed</td>\n",
       "      <td>0032J00003PLe29QAD</td>\n",
       "      <td>0032J00003PhDOI</td>\n",
       "      <td>Hennepin</td>\n",
       "      <td>40</td>\n",
       "      <td>Unemployed</td>\n",
       "      <td>NaN</td>\n",
       "      <td>NaT</td>\n",
       "      <td>Masters Degree</td>\n",
       "      <td>...</td>\n",
       "      <td>NaN</td>\n",
       "      <td>NaN</td>\n",
       "      <td>NaN</td>\n",
       "      <td>Female</td>\n",
       "      <td>Black or African American</td>\n",
       "      <td>2004-01-01</td>\n",
       "      <td>2.705303e+11</td>\n",
       "      <td>2.705302e+11</td>\n",
       "      <td>NaN</td>\n",
       "      <td>9.0</td>\n",
       "    </tr>\n",
       "    <tr>\n",
       "      <th>1</th>\n",
       "      <td>a1v2J000002uR0JQAU</td>\n",
       "      <td>Closed</td>\n",
       "      <td>0032J00003PfZ6OQAV</td>\n",
       "      <td>0032J00003PgoV1</td>\n",
       "      <td>Washington</td>\n",
       "      <td>65</td>\n",
       "      <td>Tech: Research/Design</td>\n",
       "      <td>NaN</td>\n",
       "      <td>2018-04-11</td>\n",
       "      <td>NaN</td>\n",
       "      <td>...</td>\n",
       "      <td>NaN</td>\n",
       "      <td>NaN</td>\n",
       "      <td>NaN</td>\n",
       "      <td>Female</td>\n",
       "      <td>Black or African American; White or Caucasian</td>\n",
       "      <td>2006-06-01</td>\n",
       "      <td>2.716307e+11</td>\n",
       "      <td>2.716307e+11</td>\n",
       "      <td>NaN</td>\n",
       "      <td>46.1</td>\n",
       "    </tr>\n",
       "    <tr>\n",
       "      <th>2</th>\n",
       "      <td>a1v2J0000027NsOQAU</td>\n",
       "      <td>Closed</td>\n",
       "      <td>0032J00003PLeoRQAT</td>\n",
       "      <td>0032J00003Ph0MT</td>\n",
       "      <td>Ramsey</td>\n",
       "      <td>45</td>\n",
       "      <td>Military</td>\n",
       "      <td>NaN</td>\n",
       "      <td>NaT</td>\n",
       "      <td>Bachelors Degree</td>\n",
       "      <td>...</td>\n",
       "      <td>NaN</td>\n",
       "      <td>NaN</td>\n",
       "      <td>NaN</td>\n",
       "      <td>Male</td>\n",
       "      <td>Black or African American; White or Caucasian</td>\n",
       "      <td>2007-01-01</td>\n",
       "      <td>2.700305e+11</td>\n",
       "      <td>2.712304e+11</td>\n",
       "      <td>NaN</td>\n",
       "      <td>6.2</td>\n",
       "    </tr>\n",
       "    <tr>\n",
       "      <th>3</th>\n",
       "      <td>a1v2J0000027dtOQAQ</td>\n",
       "      <td>Active</td>\n",
       "      <td>0032J00003PLeoRQAT</td>\n",
       "      <td>0032J00003Ph14N</td>\n",
       "      <td>Hennepin</td>\n",
       "      <td>61</td>\n",
       "      <td>Finance: Banking</td>\n",
       "      <td>NaN</td>\n",
       "      <td>2018-01-02</td>\n",
       "      <td>NaN</td>\n",
       "      <td>...</td>\n",
       "      <td>NaN</td>\n",
       "      <td>NaN</td>\n",
       "      <td>NaN</td>\n",
       "      <td>Male</td>\n",
       "      <td>Black or African American; White or Caucasian</td>\n",
       "      <td>2007-01-01</td>\n",
       "      <td>2.700305e+11</td>\n",
       "      <td>NaN</td>\n",
       "      <td>NaN</td>\n",
       "      <td>85.6</td>\n",
       "    </tr>\n",
       "    <tr>\n",
       "      <th>4</th>\n",
       "      <td>a1v2J0000028enKQAQ</td>\n",
       "      <td>Closed</td>\n",
       "      <td>0032J00003PfZ6QQAV</td>\n",
       "      <td>0032J00003Ph14j</td>\n",
       "      <td>Ramsey</td>\n",
       "      <td>29</td>\n",
       "      <td>Human Services: Non-Profit</td>\n",
       "      <td>NaN</td>\n",
       "      <td>2018-03-12</td>\n",
       "      <td>Bachelors Degree</td>\n",
       "      <td>...</td>\n",
       "      <td>NaN</td>\n",
       "      <td>NaN</td>\n",
       "      <td>NaN</td>\n",
       "      <td>Female</td>\n",
       "      <td>Hispanic</td>\n",
       "      <td>2005-01-01</td>\n",
       "      <td>2.716307e+11</td>\n",
       "      <td>2.705311e+11</td>\n",
       "      <td>NaN</td>\n",
       "      <td>28.3</td>\n",
       "    </tr>\n",
       "  </tbody>\n",
       "</table>\n",
       "<p>5 rows × 66 columns</p>\n",
       "</div>"
      ],
      "text/plain": [
       "      Match ID 18Char   Stage           Little ID           Big ID  \\\n",
       "0  a1v2J0000028pRvQAI  Closed  0032J00003PLe29QAD  0032J00003PhDOI   \n",
       "1  a1v2J000002uR0JQAU  Closed  0032J00003PfZ6OQAV  0032J00003PgoV1   \n",
       "2  a1v2J0000027NsOQAU  Closed  0032J00003PLeoRQAT  0032J00003Ph0MT   \n",
       "3  a1v2J0000027dtOQAQ  Active  0032J00003PLeoRQAT  0032J00003Ph14N   \n",
       "4  a1v2J0000028enKQAQ  Closed  0032J00003PfZ6QQAV  0032J00003Ph14j   \n",
       "\n",
       "   Big County  Big Age              Big Occupation Big: Military  \\\n",
       "0    Hennepin       40                  Unemployed           NaN   \n",
       "1  Washington       65       Tech: Research/Design           NaN   \n",
       "2      Ramsey       45                    Military           NaN   \n",
       "3    Hennepin       61            Finance: Banking           NaN   \n",
       "4      Ramsey       29  Human Services: Non-Profit           NaN   \n",
       "\n",
       "  Big Approved Date Big Level of Education  ...  \\\n",
       "0               NaT         Masters Degree  ...   \n",
       "1        2018-04-11                    NaN  ...   \n",
       "2               NaT       Bachelors Degree  ...   \n",
       "3        2018-01-02                    NaN  ...   \n",
       "4        2018-03-12       Bachelors Degree  ...   \n",
       "\n",
       "  Little Contact: Interest Finder - Career  \\\n",
       "0                                      NaN   \n",
       "1                                      NaN   \n",
       "2                                      NaN   \n",
       "3                                      NaN   \n",
       "4                                      NaN   \n",
       "\n",
       "  Little Contact: Interest Finder - Personality  \\\n",
       "0                                           NaN   \n",
       "1                                           NaN   \n",
       "2                                           NaN   \n",
       "3                                           NaN   \n",
       "4                                           NaN   \n",
       "\n",
       "  Little Contact: Interest Finder - Three Wishes Little Gender  \\\n",
       "0                                            NaN        Female   \n",
       "1                                            NaN        Female   \n",
       "2                                            NaN          Male   \n",
       "3                                            NaN          Male   \n",
       "4                                            NaN        Female   \n",
       "\n",
       "              Little Participant: Race/Ethnicity Little Birthdate  \\\n",
       "0                      Black or African American       2004-01-01   \n",
       "1  Black or African American; White or Caucasian       2006-06-01   \n",
       "2  Black or African American; White or Caucasian       2007-01-01   \n",
       "3  Black or African American; White or Caucasian       2007-01-01   \n",
       "4                                       Hispanic       2005-01-01   \n",
       "\n",
       "  Little Mailing Address Census Block Group Big Home Census Block Group  \\\n",
       "0                              2.705303e+11                2.705302e+11   \n",
       "1                              2.716307e+11                2.716307e+11   \n",
       "2                              2.700305e+11                2.712304e+11   \n",
       "3                              2.700305e+11                         NaN   \n",
       "4                              2.716307e+11                2.705311e+11   \n",
       "\n",
       "  Big Employer/School Census Block Group Match Length  \n",
       "0                                    NaN          9.0  \n",
       "1                                    NaN         46.1  \n",
       "2                                    NaN          6.2  \n",
       "3                                    NaN         85.6  \n",
       "4                                    NaN         28.3  \n",
       "\n",
       "[5 rows x 66 columns]"
      ]
     },
     "execution_count": 18,
     "metadata": {},
     "output_type": "execute_result"
    }
   ],
   "source": [
    "df = pd.read_excel(\"../../data/Novice.xlsx\")\n",
    "df.head()"
   ]
  },
  {
   "cell_type": "code",
   "execution_count": 20,
   "metadata": {},
   "outputs": [
    {
     "data": {
      "text/plain": [
       "Little Mailing Address Census Block Group\n",
       "2.705300e+11    19\n",
       "2.705310e+11    16\n",
       "2.705310e+11    14\n",
       "2.705300e+11    14\n",
       "2.705310e+11    13\n",
       "                ..\n",
       "2.700305e+11     1\n",
       "2.705303e+11     1\n",
       "2.712304e+11     1\n",
       "2.705310e+11     1\n",
       "2.700305e+11     1\n",
       "Name: count, Length: 959, dtype: int64"
      ]
     },
     "execution_count": 20,
     "metadata": {},
     "output_type": "execute_result"
    }
   ],
   "source": [
    "df['Little Mailing Address Census Block Group'].value_counts()"
   ]
  },
  {
   "cell_type": "code",
   "execution_count": 4,
   "metadata": {},
   "outputs": [
    {
     "data": {
      "text/plain": [
       "Match ID 18Char                                 0\n",
       "Stage                                           0\n",
       "Little ID                                       0\n",
       "Big ID                                          0\n",
       "Big County                                    655\n",
       "                                             ... \n",
       "Little Birthdate                                0\n",
       "Little Mailing Address Census Block Group     966\n",
       "Big Home Census Block Group                  1005\n",
       "Big Employer/School Census Block Group       3158\n",
       "Match Length                                    0\n",
       "Length: 66, dtype: int64"
      ]
     },
     "execution_count": 4,
     "metadata": {},
     "output_type": "execute_result"
    }
   ],
   "source": [
    "df.isnull().sum()"
   ]
  },
  {
   "cell_type": "code",
   "execution_count": 5,
   "metadata": {},
   "outputs": [],
   "source": [
    "# columns to be modified\n",
    "\n",
    "\n",
    "# todo: remove all \"contact\" and use _\n",
    "\n",
    "to_be_deleted = [\n",
    "    \"Big Employer/School Census Block Group\", \"Big Enrollment: Created Date\", \"Big Acceptance Date\",\n",
    "    \"Big Contact: Created Date\",\"Big Days Acceptance to Match\", \"Big Days Interview to Acceptance\",\"Big Days Interview to Match\",\n",
    "    \"Big Contact: Preferred Communication Type\", \"Big Assessment Uploaded\", \"Big Enrollment: Created Date\",\n",
    "    \"Big Employer\", \"Big Employer/School Census Block Group\", \"Big Approved Date\", \"Big Home Census Block Group\",\n",
    "\n",
    "    \"Big ID\", \"Little ID\", \"Stage\", \"Closure Reason\", \"Closure Details\", \"Match Closure Meeting Date\", \"Big Assessment Uploaded\", \n",
    "    \"Little Mailing Address Census Block Group\", \"Little Interview Date\", \"Little Acceptance Date\", \"Little Application Received\", \"Little Moved to RTBM in MF\",\n",
    "    \"Little RTBM Date in MF\", \"Little RTBM in Matchforce\", \"Little Moved to RTBM in MF\", \"Little Interview Date\", \"Little Acceptance Date\", \"Little RTBM in Matchforce\",\n",
    "\n",
    "]\n",
    "\n",
    "yes_no = [\n",
    "    \"Big Open to Cross-Gender Match\", \"Big Re-Enroll\", \"Big Contact: Marital Status\", \"Big Gender\", \"Big Military\", \"Big Car Access\",\n",
    "    \"Big Contact: Former Big/Little\", \n",
    "] "
   ]
  },
  {
   "cell_type": "code",
   "execution_count": 6,
   "metadata": {},
   "outputs": [
    {
     "data": {
      "text/plain": [
       "Match ID 18Char                                         0\n",
       "Big County                                            655\n",
       "Big Age                                                 0\n",
       "Big Occupation                                        325\n",
       "Big: Military                                        2044\n",
       "Big Level of Education                               2825\n",
       "Big Languages                                        1512\n",
       "Big Gender                                              1\n",
       "Big Birthdate                                           0\n",
       "Program                                                 0\n",
       "Program Type                                            0\n",
       "Big Race/Ethnicity                                     33\n",
       "Match Activation Date                                   0\n",
       "Rationale for Match                                   299\n",
       "Big Enrollment: Record Type                          1902\n",
       "Big Car Access                                       3158\n",
       "Big Open to Cross-Gender Match                       3238\n",
       "Big Re-Enroll                                        1902\n",
       "Big Contact: Former Big/Little                       3211\n",
       "Big Contact: Interest Finder - Sports                3248\n",
       "Big Contact: Interest Finder - Places To Go          3248\n",
       "Big Contact: Interest Finder - Hobbies               3248\n",
       "Big Contact: Interest Finder - Entertainment         3248\n",
       "Big Contact: Volunteer Availability                  2998\n",
       "Big Contact: Marital Status                          1960\n",
       "Little Contact: Language(s) Spoken                   3237\n",
       "Little Contact: Interest Finder - Sports             3195\n",
       "Little Contact: Interest Finder - Outdoors           3195\n",
       "Little Contact: Interest Finder - Arts               3195\n",
       "Little Contact: Interest Finder - Places To Go       3195\n",
       "Little Contact: Interest Finder - Hobbies            3195\n",
       "Little Contact: Interest Finder - Entertainment      3195\n",
       "Little Contact: Interest Finder - Other Interests    3243\n",
       "Little Other Interests                               2959\n",
       "Little Contact: Interest Finder - Career             3203\n",
       "Little Contact: Interest Finder - Personality        3195\n",
       "Little Contact: Interest Finder - Three Wishes       3203\n",
       "Little Gender                                           1\n",
       "Little Participant: Race/Ethnicity                    105\n",
       "Little Birthdate                                        0\n",
       "Match Length                                            0\n",
       "dtype: int64"
      ]
     },
     "execution_count": 6,
     "metadata": {},
     "output_type": "execute_result"
    }
   ],
   "source": [
    "df.drop(to_be_deleted, axis=1, inplace=True)\n",
    "df.isna().sum()"
   ]
  },
  {
   "cell_type": "code",
   "execution_count": 7,
   "metadata": {},
   "outputs": [
    {
     "data": {
      "text/html": [
       "<div>\n",
       "<style scoped>\n",
       "    .dataframe tbody tr th:only-of-type {\n",
       "        vertical-align: middle;\n",
       "    }\n",
       "\n",
       "    .dataframe tbody tr th {\n",
       "        vertical-align: top;\n",
       "    }\n",
       "\n",
       "    .dataframe thead th {\n",
       "        text-align: right;\n",
       "    }\n",
       "</style>\n",
       "<table border=\"1\" class=\"dataframe\">\n",
       "  <thead>\n",
       "    <tr style=\"text-align: right;\">\n",
       "      <th></th>\n",
       "      <th>Match ID 18Char</th>\n",
       "      <th>Big Age</th>\n",
       "      <th>Big Occupation</th>\n",
       "      <th>Big Gender</th>\n",
       "      <th>Big Birthdate</th>\n",
       "      <th>Program</th>\n",
       "      <th>Program Type</th>\n",
       "      <th>Big Race/Ethnicity</th>\n",
       "      <th>Match Activation Date</th>\n",
       "      <th>Rationale for Match</th>\n",
       "      <th>Little Gender</th>\n",
       "      <th>Little Participant: Race/Ethnicity</th>\n",
       "      <th>Little Birthdate</th>\n",
       "      <th>Match Length</th>\n",
       "    </tr>\n",
       "  </thead>\n",
       "  <tbody>\n",
       "    <tr>\n",
       "      <th>0</th>\n",
       "      <td>a1v2J0000028pRvQAI</td>\n",
       "      <td>40</td>\n",
       "      <td>Unemployed</td>\n",
       "      <td>Female</td>\n",
       "      <td>1985-02-01</td>\n",
       "      <td>General Community</td>\n",
       "      <td>Community</td>\n",
       "      <td>Black or African American;White or Caucasian;</td>\n",
       "      <td>2017-03-03</td>\n",
       "      <td>NaN</td>\n",
       "      <td>Female</td>\n",
       "      <td>Black or African American</td>\n",
       "      <td>2004-01-01</td>\n",
       "      <td>9.0</td>\n",
       "    </tr>\n",
       "    <tr>\n",
       "      <th>1</th>\n",
       "      <td>a1v2J000002uR0JQAU</td>\n",
       "      <td>65</td>\n",
       "      <td>Tech: Research/Design</td>\n",
       "      <td>Female</td>\n",
       "      <td>1959-05-01</td>\n",
       "      <td>General Community</td>\n",
       "      <td>Community</td>\n",
       "      <td>White or Caucasian;</td>\n",
       "      <td>2018-04-12</td>\n",
       "      <td>Their shared interests include spending time o...</td>\n",
       "      <td>Female</td>\n",
       "      <td>Black or African American; White or Caucasian</td>\n",
       "      <td>2006-06-01</td>\n",
       "      <td>46.1</td>\n",
       "    </tr>\n",
       "    <tr>\n",
       "      <th>2</th>\n",
       "      <td>a1v2J0000027NsOQAU</td>\n",
       "      <td>45</td>\n",
       "      <td>Military</td>\n",
       "      <td>Male</td>\n",
       "      <td>1979-07-01</td>\n",
       "      <td>General Community</td>\n",
       "      <td>Community</td>\n",
       "      <td>Asian;</td>\n",
       "      <td>2017-03-23</td>\n",
       "      <td>NaN</td>\n",
       "      <td>Male</td>\n",
       "      <td>Black or African American; White or Caucasian</td>\n",
       "      <td>2007-01-01</td>\n",
       "      <td>6.2</td>\n",
       "    </tr>\n",
       "    <tr>\n",
       "      <th>3</th>\n",
       "      <td>a1v2J0000027dtOQAQ</td>\n",
       "      <td>61</td>\n",
       "      <td>Finance: Banking</td>\n",
       "      <td>Male</td>\n",
       "      <td>1963-11-01</td>\n",
       "      <td>General Community</td>\n",
       "      <td>Community</td>\n",
       "      <td>White or Caucasian;</td>\n",
       "      <td>2018-01-11</td>\n",
       "      <td>B_first_name and L_first_name were matched bec...</td>\n",
       "      <td>Male</td>\n",
       "      <td>Black or African American; White or Caucasian</td>\n",
       "      <td>2007-01-01</td>\n",
       "      <td>85.6</td>\n",
       "    </tr>\n",
       "    <tr>\n",
       "      <th>4</th>\n",
       "      <td>a1v2J0000028enKQAQ</td>\n",
       "      <td>29</td>\n",
       "      <td>Human Services: Non-Profit</td>\n",
       "      <td>Female</td>\n",
       "      <td>1996-01-01</td>\n",
       "      <td>General Community</td>\n",
       "      <td>Community</td>\n",
       "      <td>White or Caucasian;</td>\n",
       "      <td>2018-04-13</td>\n",
       "      <td>Shared interests like being creative and tryin...</td>\n",
       "      <td>Female</td>\n",
       "      <td>Hispanic</td>\n",
       "      <td>2005-01-01</td>\n",
       "      <td>28.3</td>\n",
       "    </tr>\n",
       "    <tr>\n",
       "      <th>...</th>\n",
       "      <td>...</td>\n",
       "      <td>...</td>\n",
       "      <td>...</td>\n",
       "      <td>...</td>\n",
       "      <td>...</td>\n",
       "      <td>...</td>\n",
       "      <td>...</td>\n",
       "      <td>...</td>\n",
       "      <td>...</td>\n",
       "      <td>...</td>\n",
       "      <td>...</td>\n",
       "      <td>...</td>\n",
       "      <td>...</td>\n",
       "      <td>...</td>\n",
       "    </tr>\n",
       "    <tr>\n",
       "      <th>3270</th>\n",
       "      <td>a1vUX000001JxTeYAK</td>\n",
       "      <td>30</td>\n",
       "      <td>Education</td>\n",
       "      <td>Female</td>\n",
       "      <td>1994-05-01</td>\n",
       "      <td>General Site</td>\n",
       "      <td>Site</td>\n",
       "      <td>Black or African American;</td>\n",
       "      <td>2024-11-13</td>\n",
       "      <td>-BS and LS are both Black/African-American, BS...</td>\n",
       "      <td>Female</td>\n",
       "      <td>Black or African American</td>\n",
       "      <td>2017-01-01</td>\n",
       "      <td>3.5</td>\n",
       "    </tr>\n",
       "    <tr>\n",
       "      <th>3271</th>\n",
       "      <td>a1vUX000001SmU9YAK</td>\n",
       "      <td>21</td>\n",
       "      <td>Student: College</td>\n",
       "      <td>Female</td>\n",
       "      <td>2003-03-01</td>\n",
       "      <td>General Site</td>\n",
       "      <td>Site</td>\n",
       "      <td>Black or African American;</td>\n",
       "      <td>2024-12-16</td>\n",
       "      <td>- B_first_name (BS) and L_first_name (LS) are ...</td>\n",
       "      <td>Female</td>\n",
       "      <td>White or Caucasian</td>\n",
       "      <td>2014-10-01</td>\n",
       "      <td>2.4</td>\n",
       "    </tr>\n",
       "    <tr>\n",
       "      <th>3272</th>\n",
       "      <td>a1vUX000001SmPJYA0</td>\n",
       "      <td>21</td>\n",
       "      <td>Student: College</td>\n",
       "      <td>Female</td>\n",
       "      <td>2003-03-01</td>\n",
       "      <td>General Site</td>\n",
       "      <td>Site</td>\n",
       "      <td>Black or African American;</td>\n",
       "      <td>2024-12-16</td>\n",
       "      <td>- B_first_name (BS) and L_first_name (LS) are ...</td>\n",
       "      <td>Female</td>\n",
       "      <td>Asian - Vietnamese; White or Caucasian</td>\n",
       "      <td>2015-02-01</td>\n",
       "      <td>2.4</td>\n",
       "    </tr>\n",
       "    <tr>\n",
       "      <th>3273</th>\n",
       "      <td>a1vUX000001PyJlYAK</td>\n",
       "      <td>33</td>\n",
       "      <td>Consultant</td>\n",
       "      <td>Male</td>\n",
       "      <td>1991-07-01</td>\n",
       "      <td>General Site</td>\n",
       "      <td>Site</td>\n",
       "      <td>White or Caucasian;</td>\n",
       "      <td>2024-11-21</td>\n",
       "      <td>B_first_name (BB) and L_first_name (LB) are a ...</td>\n",
       "      <td>Male</td>\n",
       "      <td>Black or African American</td>\n",
       "      <td>2014-09-01</td>\n",
       "      <td>3.2</td>\n",
       "    </tr>\n",
       "    <tr>\n",
       "      <th>3274</th>\n",
       "      <td>a1vUX000001UAe5YAG</td>\n",
       "      <td>22</td>\n",
       "      <td>Business: Sales</td>\n",
       "      <td>Male</td>\n",
       "      <td>2002-10-01</td>\n",
       "      <td>BSW-General Mills</td>\n",
       "      <td>Site Based Facilitated</td>\n",
       "      <td>White or Caucasian;</td>\n",
       "      <td>2024-11-21</td>\n",
       "      <td>- Josh (BB) and L_first_name (LB) are a new ma...</td>\n",
       "      <td>Male</td>\n",
       "      <td>Black or African American</td>\n",
       "      <td>2011-04-01</td>\n",
       "      <td>3.2</td>\n",
       "    </tr>\n",
       "  </tbody>\n",
       "</table>\n",
       "<p>3275 rows × 14 columns</p>\n",
       "</div>"
      ],
      "text/plain": [
       "         Match ID 18Char  Big Age              Big Occupation Big Gender  \\\n",
       "0     a1v2J0000028pRvQAI       40                  Unemployed     Female   \n",
       "1     a1v2J000002uR0JQAU       65       Tech: Research/Design     Female   \n",
       "2     a1v2J0000027NsOQAU       45                    Military       Male   \n",
       "3     a1v2J0000027dtOQAQ       61            Finance: Banking       Male   \n",
       "4     a1v2J0000028enKQAQ       29  Human Services: Non-Profit     Female   \n",
       "...                  ...      ...                         ...        ...   \n",
       "3270  a1vUX000001JxTeYAK       30                   Education     Female   \n",
       "3271  a1vUX000001SmU9YAK       21            Student: College     Female   \n",
       "3272  a1vUX000001SmPJYA0       21            Student: College     Female   \n",
       "3273  a1vUX000001PyJlYAK       33                  Consultant       Male   \n",
       "3274  a1vUX000001UAe5YAG       22             Business: Sales       Male   \n",
       "\n",
       "     Big Birthdate            Program            Program Type  \\\n",
       "0       1985-02-01  General Community               Community   \n",
       "1       1959-05-01  General Community               Community   \n",
       "2       1979-07-01  General Community               Community   \n",
       "3       1963-11-01  General Community               Community   \n",
       "4       1996-01-01  General Community               Community   \n",
       "...            ...                ...                     ...   \n",
       "3270    1994-05-01       General Site                    Site   \n",
       "3271    2003-03-01       General Site                    Site   \n",
       "3272    2003-03-01       General Site                    Site   \n",
       "3273    1991-07-01       General Site                    Site   \n",
       "3274    2002-10-01  BSW-General Mills  Site Based Facilitated   \n",
       "\n",
       "                                 Big Race/Ethnicity Match Activation Date  \\\n",
       "0     Black or African American;White or Caucasian;            2017-03-03   \n",
       "1                               White or Caucasian;            2018-04-12   \n",
       "2                                            Asian;            2017-03-23   \n",
       "3                               White or Caucasian;            2018-01-11   \n",
       "4                               White or Caucasian;            2018-04-13   \n",
       "...                                             ...                   ...   \n",
       "3270                     Black or African American;            2024-11-13   \n",
       "3271                     Black or African American;            2024-12-16   \n",
       "3272                     Black or African American;            2024-12-16   \n",
       "3273                            White or Caucasian;            2024-11-21   \n",
       "3274                            White or Caucasian;            2024-11-21   \n",
       "\n",
       "                                    Rationale for Match Little Gender  \\\n",
       "0                                                   NaN        Female   \n",
       "1     Their shared interests include spending time o...        Female   \n",
       "2                                                   NaN          Male   \n",
       "3     B_first_name and L_first_name were matched bec...          Male   \n",
       "4     Shared interests like being creative and tryin...        Female   \n",
       "...                                                 ...           ...   \n",
       "3270  -BS and LS are both Black/African-American, BS...        Female   \n",
       "3271  - B_first_name (BS) and L_first_name (LS) are ...        Female   \n",
       "3272  - B_first_name (BS) and L_first_name (LS) are ...        Female   \n",
       "3273  B_first_name (BB) and L_first_name (LB) are a ...          Male   \n",
       "3274  - Josh (BB) and L_first_name (LB) are a new ma...          Male   \n",
       "\n",
       "                 Little Participant: Race/Ethnicity Little Birthdate  \\\n",
       "0                         Black or African American       2004-01-01   \n",
       "1     Black or African American; White or Caucasian       2006-06-01   \n",
       "2     Black or African American; White or Caucasian       2007-01-01   \n",
       "3     Black or African American; White or Caucasian       2007-01-01   \n",
       "4                                          Hispanic       2005-01-01   \n",
       "...                                             ...              ...   \n",
       "3270                      Black or African American       2017-01-01   \n",
       "3271                             White or Caucasian       2014-10-01   \n",
       "3272         Asian - Vietnamese; White or Caucasian       2015-02-01   \n",
       "3273                      Black or African American       2014-09-01   \n",
       "3274                      Black or African American       2011-04-01   \n",
       "\n",
       "      Match Length  \n",
       "0              9.0  \n",
       "1             46.1  \n",
       "2              6.2  \n",
       "3             85.6  \n",
       "4             28.3  \n",
       "...            ...  \n",
       "3270           3.5  \n",
       "3271           2.4  \n",
       "3272           2.4  \n",
       "3273           3.2  \n",
       "3274           3.2  \n",
       "\n",
       "[3275 rows x 14 columns]"
      ]
     },
     "execution_count": 7,
     "metadata": {},
     "output_type": "execute_result"
    }
   ],
   "source": [
    "# drop column where number of na > 300\n",
    "to_drop = [x for x in df.columns.to_list() if df[x].isna().sum()>325]\n",
    "df.drop(to_drop, axis=1, inplace=True)\n",
    "df"
   ]
  },
  {
   "cell_type": "code",
   "execution_count": 8,
   "metadata": {},
   "outputs": [
    {
     "data": {
      "text/plain": [
       "Match ID 18Char                               object\n",
       "Big Age                                        int64\n",
       "Big Occupation                                object\n",
       "Big Gender                                    object\n",
       "Big Birthdate                         datetime64[ns]\n",
       "Program                                       object\n",
       "Program Type                                  object\n",
       "Big Race/Ethnicity                            object\n",
       "Match Activation Date                 datetime64[ns]\n",
       "Rationale for Match                           object\n",
       "Little Gender                                 object\n",
       "Little Participant: Race/Ethnicity            object\n",
       "Little Birthdate                      datetime64[ns]\n",
       "Match Length                                 float64\n",
       "dtype: object"
      ]
     },
     "execution_count": 8,
     "metadata": {},
     "output_type": "execute_result"
    }
   ],
   "source": [
    "df.dtypes"
   ]
  },
  {
   "cell_type": "code",
   "execution_count": 9,
   "metadata": {},
   "outputs": [
    {
     "data": {
      "text/plain": [
       "0       32\n",
       "1       59\n",
       "2       38\n",
       "3       55\n",
       "4       22\n",
       "        ..\n",
       "3270    30\n",
       "3271    21\n",
       "3272    21\n",
       "3273    33\n",
       "3274    22\n",
       "Name: big_age_match_start, Length: 3275, dtype: int32"
      ]
     },
     "execution_count": 9,
     "metadata": {},
     "output_type": "execute_result"
    }
   ],
   "source": [
    "df[\"big_age_match_start\"] = abs(df['Big Birthdate'].dt.year - df[\"Match Activation Date\"].dt.year)\n",
    "df[\"little_age_match_start\"] = abs(df['Little Birthdate'].dt.year - df[\"Match Activation Date\"].dt.year)\n",
    "df['big_age_match_start']"
   ]
  },
  {
   "cell_type": "code",
   "execution_count": 10,
   "metadata": {},
   "outputs": [
    {
     "data": {
      "text/plain": [
       "<Axes: xlabel='little_age_match_start', ylabel='Match Length'>"
      ]
     },
     "execution_count": 10,
     "metadata": {},
     "output_type": "execute_result"
    },
    {
     "data": {
      "image/png": "[encoded data removed]",
      "text/plain": [
       "<Figure size 640x480 with 1 Axes>"
      ]
     },
     "metadata": {},
     "output_type": "display_data"
    }
   ],
   "source": [
    "sns.scatterplot(x=df['little_age_match_start'], y=df[\"Match Length\"])"
   ]
  },
  {
   "cell_type": "code",
   "execution_count": 11,
   "metadata": {},
   "outputs": [
    {
     "data": {
      "text/plain": [
       "same_gender\n",
       "True     3074\n",
       "False     201\n",
       "Name: count, dtype: int64"
      ]
     },
     "execution_count": 11,
     "metadata": {},
     "output_type": "execute_result"
    }
   ],
   "source": [
    "df[\"same_gender\"] = df['Little Gender']==df['Big Gender']\n",
    "df[\"same_gender\"].value_counts()"
   ]
  },
  {
   "cell_type": "code",
   "execution_count": 12,
   "metadata": {},
   "outputs": [
    {
     "data": {
      "text/plain": [
       "<Axes: xlabel='same_gender', ylabel='Match Length'>"
      ]
     },
     "execution_count": 12,
     "metadata": {},
     "output_type": "execute_result"
    },
    {
     "data": {
      "image/png": "[encoded data removed]",
      "text/plain": [
       "<Figure size 640x480 with 1 Axes>"
      ]
     },
     "metadata": {},
     "output_type": "display_data"
    }
   ],
   "source": [
    "sns.barplot(x=df['same_gender'], y=df['Match Length'] )"
   ]
  },
  {
   "cell_type": "code",
   "execution_count": 13,
   "metadata": {},
   "outputs": [
    {
     "data": {
      "text/plain": [
       "little_gender\n",
       "Female        1796\n",
       "Male          1464\n",
       "Non-binary      15\n",
       "Name: count, dtype: int64"
      ]
     },
     "execution_count": 13,
     "metadata": {},
     "output_type": "execute_result"
    }
   ],
   "source": [
    "df['little_gender'] = df['Little Gender'].apply(lambda x: x if x in ['Female', 'Male'] else \"Non-binary\")\n",
    "df['little_gender'].value_counts()"
   ]
  },
  {
   "cell_type": "code",
   "execution_count": 14,
   "metadata": {},
   "outputs": [
    {
     "data": {
      "text/plain": [
       "<Axes: xlabel='little_gender', ylabel='Match Length'>"
      ]
     },
     "execution_count": 14,
     "metadata": {},
     "output_type": "execute_result"
    },
    {
     "data": {
      "image/png": "[encoded data removed]",
      "text/plain": [
       "<Figure size 640x480 with 1 Axes>"
      ]
     },
     "metadata": {},
     "output_type": "display_data"
    }
   ],
   "source": [
    "sns.barplot(x=df['little_gender'], y=df['Match Length'] )"
   ]
  },
  {
   "cell_type": "code",
   "execution_count": 15,
   "metadata": {},
   "outputs": [
    {
     "data": {
      "text/plain": [
       "<Axes: xlabel='Program Type', ylabel='Match Length'>"
      ]
     },
     "execution_count": 15,
     "metadata": {},
     "output_type": "execute_result"
    },
    {
     "data": {
      "image/png": "[encoded data removed]",
      "text/plain": [
       "<Figure size 640x480 with 1 Axes>"
      ]
     },
     "metadata": {},
     "output_type": "display_data"
    }
   ],
   "source": [
    "sns.barplot(x=df['Program Type'], y=df['Match Length'] )"
   ]
  },
  {
   "cell_type": "code",
   "execution_count": 16,
   "metadata": {},
   "outputs": [
    {
     "data": {
      "text/plain": [
       "array(['Unemployed', 'Tech: Research/Design', 'Military',\n",
       "       'Finance: Banking', 'Human Services: Non-Profit',\n",
       "       'Business: Human Resources', 'Unknown', 'Retail: Mgt',\n",
       "       'Finance: Accountant', 'Medical: Healthcare Worker',\n",
       "       'Tech: Computer/Programmer', 'Construction', 'Business: Marketing',\n",
       "       'Business: Clerical', 'Self-Employed, Entrepreneur',\n",
       "       'Business: Mgt, Admin', 'Medical', 'Govt', 'Medical: Nurse',\n",
       "       'Govt: Mgmt/Admin', 'Arts, Entertainment, Sports', 'Finance',\n",
       "       'Service: Restaurant', 'Customer Service', 'Forestry',\n",
       "       'Law: Lawyer', 'Architect', nan, 'Business',\n",
       "       'Human Services: Social Worker', 'Consultant', 'Human Services',\n",
       "       'Medical: Doctor, Provider', 'Business: Sales', 'Student: College',\n",
       "       'Medical: Admin', 'Business: Engineer', 'Education: Admin',\n",
       "       'Education: Teacher', 'Facilities/Maintenance',\n",
       "       'Tech: Sales, Mktg', 'Retired', 'Agriculture', 'Law',\n",
       "       'Tech: Engineer', 'Transport: Flight Attendant', 'Insurance',\n",
       "       'Personal Trainer/Coach', 'Education', 'Child/Day Care Worker',\n",
       "       'Law: Security Officer', 'Engineer', 'Journalist/Media',\n",
       "       'Service: Hotel', 'Finance: Auditor', 'Retail: Sales',\n",
       "       'Real Estate: Realtor', 'Tech: Management',\n",
       "       'Education: Teacher Asst/Aid', 'Transport: Mechanic',\n",
       "       'Education: College Professor', 'Transport: Pilot',\n",
       "       'Govt: Clerical', 'Transport: Driver', 'Finance: Economist',\n",
       "       'Human Services: Psychologist', 'Tech: Support, Writing',\n",
       "       'Laborer', 'Barber/Hairstylist', 'Librarian', 'Firefighter',\n",
       "       'Human Services: Youth Worker', 'Service: Tourism',\n",
       "       'Medical: Pharmacist', 'Finance: Tax/Preparer', 'Law: Paralegal',\n",
       "       'Tech: Production Line', 'Homemaker', 'Law: Police Officer',\n",
       "       'Govt: Technician', 'Landscaper/Groundskeeper', 'Clergy',\n",
       "       'Scientist', 'Student: High School', 'Factory Worker', 'Craftsman',\n",
       "       'Law: Judge', 'Disabled'], dtype=object)"
      ]
     },
     "execution_count": 16,
     "metadata": {},
     "output_type": "execute_result"
    }
   ],
   "source": [
    "# classify these type of occupstion into time consuming ones anf check if that affect match length.\n",
    "df['Big Occupation'].unique()"
   ]
  },
  {
   "cell_type": "code",
   "execution_count": 17,
   "metadata": {},
   "outputs": [
    {
     "data": {
      "text/plain": [
       "Big Race/Ethnicity\n",
       "White or Caucasian;                                             2486\n",
       "Black or African American;                                       203\n",
       "Asian;                                                           170\n",
       "Other;                                                           142\n",
       "Asian - Other;                                                    97\n",
       "Hispanic - Other Latinx or Spanish origin;                        55\n",
       "Hispanic;                                                         31\n",
       "Black or African American;White or Caucasian;                     18\n",
       "Prefer not to say;                                                12\n",
       "American Indian or Alaska Native;                                  5\n",
       "Asian;White or Caucasian;                                          4\n",
       "Asian;Hispanic;                                                    3\n",
       "Asian - Chinese;                                                   3\n",
       "Pacific Islander - Native Hawaiian;Pacific Islander - Other;       3\n",
       "Asian - Indian;                                                    3\n",
       "Middle Eastern or North African;                                   2\n",
       "Hispanic;White or Caucasian;                                       2\n",
       "Black or African American;Hispanic;                                1\n",
       "Pacific Islander - Native Hawaiian;                                1\n",
       "Asian - Chinese;Other;White or Caucasian;                          1\n",
       "Name: count, dtype: int64"
      ]
     },
     "execution_count": 17,
     "metadata": {},
     "output_type": "execute_result"
    }
   ],
   "source": [
    "df['Big Race/Ethnicity'].value_counts()"
   ]
  },
  {
   "cell_type": "code",
   "execution_count": null,
   "metadata": {},
   "outputs": [],
   "source": [
    "df['']"
   ]
  }
 ],
 "metadata": {
  "kernelspec": {
   "display_name": "env_x86",
   "language": "python",
   "name": "python3"
  },
  "language_info": {
   "codemirror_mode": {
    "name": "ipython",
    "version": 3
   },
   "file_extension": ".py",
   "mimetype": "text/x-python",
   "name": "python",
   "nbconvert_exporter": "python",
   "pygments_lexer": "ipython3",
   "version": "3.12.9"
  }
 },
 "nbformat": 4,
 "nbformat_minor": 2
}
