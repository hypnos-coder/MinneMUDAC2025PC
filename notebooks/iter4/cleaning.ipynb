{
 "cells": [
  {
   "cell_type": "code",
   "execution_count": 1,
   "metadata": {},
   "outputs": [],
   "source": [
    "import numpy as np\n",
    "import pandas as pd\n",
    "from sklearn.preprocessing import LabelEncoder\n",
    "import warnings\n",
    "from missforest import MissForest\n",
    "warnings.simplefilter(\"ignore\")"
   ]
  },
  {
   "cell_type": "code",
   "execution_count": 2,
   "metadata": {},
   "outputs": [],
   "source": [
    "df = pd.read_excel(\"../../data/Novice.xlsx\")"
   ]
  },
  {
   "cell_type": "code",
   "execution_count": 3,
   "metadata": {},
   "outputs": [],
   "source": [
    "# columns to be modified\n",
    "# todo: remove all \"contact\" and use _\n",
    "# these columns are either not relevant for match length or missing enormous amount of values (might use then for eda)\n",
    "to_be_deleted = [\n",
    "    \"Big Employer/School Census Block Group\", \"Big Enrollment: Created Date\", \"Big Acceptance Date\",\n",
    "    \"Big Contact: Created Date\",\"Big Days Acceptance to Match\", \"Big Days Interview to Acceptance\",\"Big Days Interview to Match\",\n",
    "    \"Big Contact: Preferred Communication Type\", \"Big Assessment Uploaded\", \"Big Enrollment: Created Date\",\n",
    "    \"Big Employer\", \"Big Employer/School Census Block Group\", \"Big Approved Date\", \"Big Home Census Block Group\", \"Big Enrollment: Record Type\",\n",
    "\n",
    "    \"Big Contact: Interest Finder - Entertainment\",\"Big Contact: Interest Finder - Hobbies\",\"Big Contact: Interest Finder - Places To Go\",\n",
    "    \"Big Contact: Interest Finder - Sports\",\"Little Contact: Interest Finder - Arts\",\"Little Contact: Interest Finder - Career\",\n",
    "    \"Little Contact: Interest Finder - Entertainment\", \"Little Contact: Interest Finder - Hobbies\", \"Little Contact: Interest Finder - Other Interests\",\n",
    "    \"Little Contact: Interest Finder - Outdoors\",\"Little Contact: Interest Finder - Personality\",\"Little Contact: Interest Finder - Places To Go\",\n",
    "    \"Little Contact: Interest Finder - Sports\",\"Little Contact: Interest Finder - Three Wishes\",\"Little Other Interests\",\n",
    "    \"Little Contact: Language(s) Spoken\", \"Big Contact: Former Big/Little\", \"Big Level of Education\", \"Big: Military\",\n",
    "    \"Big Languages\", \"Big Car Access\", \"Big Open to Cross-Gender Match\", \"Big Contact: Volunteer Availability\", \"Big Contact: Marital Status\", \"Big Re-Enroll\", \"Big County\",\n",
    "                    \n",
    "\n",
    "    \"Big ID\", \"Little ID\", \"Stage\", \"Closure Reason\", \"Closure Details\", \"Match Closure Meeting Date\", \"Big Assessment Uploaded\", \n",
    "    \"Little Mailing Address Census Block Group\", \"Little Interview Date\", \"Little Acceptance Date\", \"Little Application Received\", \"Little Moved to RTBM in MF\",\n",
    "    \"Little RTBM Date in MF\", \"Little RTBM in Matchforce\", \"Little Moved to RTBM in MF\", \"Little Interview Date\", \"Little Acceptance Date\", \"Little RTBM in Matchforce\",\n",
    "]\n",
    "\n",
    "yes_no = [\n",
    "    \"Big Open to Cross-Gender Match\", \"Big Re-Enroll\", \"Big Contact: Marital Status\", \"Big Gender\", \"Big Military\", \"Big Car Access\",\n",
    "    \"Big Contact: Former Big/Little\", \n",
    "] "
   ]
  },
  {
   "cell_type": "code",
   "execution_count": 4,
   "metadata": {},
   "outputs": [],
   "source": [
    "df.drop(to_be_deleted, axis=1, inplace=True)"
   ]
  },
  {
   "cell_type": "code",
   "execution_count": 5,
   "metadata": {},
   "outputs": [
    {
     "data": {
      "text/plain": [
       "Index(['match_id', 'big_age', 'big_occupation', 'big_gender', 'big_birthdate',\n",
       "       'program', 'program_type', 'big_race_ethnicity',\n",
       "       'match_activation_date', 'rationale_for_match', 'little_gender',\n",
       "       'little_participant__race_ethnicity', 'little_birthdate',\n",
       "       'match_length'],\n",
       "      dtype='object')"
      ]
     },
     "execution_count": 5,
     "metadata": {},
     "output_type": "execute_result"
    }
   ],
   "source": [
    "# convert all column to lower case\n",
    "df.columns = (\n",
    "    df.columns.str.strip()  # Remove leading/trailing spaces\n",
    "               .str.replace(':', '_', regex=True)  # Replace colons (`:`) with underscores\n",
    "               .str.replace(r'\\s+', '_', regex=True)  # Replace any spaces with underscores\n",
    ")\n",
    "df.columns = [\n",
    "    x.lower().\\\n",
    "        replace(\"contact: \", \"\").\\\n",
    "        replace(\"finder - \", \"\").\\\n",
    "        replace(\"/\",\"_\").\\\n",
    "        replace(\"_18char\",\"\").\\\n",
    "        replace(\" \", \"_\")\n",
    "    for x in df.columns]\n",
    "df.columns"
   ]
  },
  {
   "cell_type": "code",
   "execution_count": 6,
   "metadata": {},
   "outputs": [
    {
     "name": "stderr",
     "output_type": "stream",
     "text": [
      "100%|██████████| 5/5 [00:46<00:00,  9.23s/it]\n",
      "100%|██████████| 5/5 [00:00<00:00, 28.04it/s]\n"
     ]
    }
   ],
   "source": [
    "# Identify categorical and datetime columns\n",
    "categorical_cols = df.select_dtypes(include=['object']).columns\n",
    "datetime_cols = df.select_dtypes(include=['datetime64']).columns\n",
    "\n",
    "# Store the datetime column separately\n",
    "datetime_df = df[datetime_cols]\n",
    "\n",
    "# Drop the datetime column before imputation\n",
    "df = df.drop(columns=datetime_cols)\n",
    "\n",
    "# Convert categorical columns to 'category' dtype\n",
    "for col in categorical_cols:\n",
    "    df[col] = df[col].astype('category')\n",
    "\n",
    "# Save category mappings for conversion after imputation\n",
    "category_mappings = {col: dict(enumerate(df[col].cat.categories)) for col in categorical_cols}\n",
    "\n",
    "# Convert categorical columns to numerical codes\n",
    "for col in categorical_cols:\n",
    "    df[col] = df[col].cat.codes\n",
    "    df[col].replace(-1, np.nan, inplace=True)  # Keep missing values as NaN\n",
    "\n",
    "# Initialize MissForest imputer\n",
    "imputer = MissForest()\n",
    "\n",
    "# Perform imputation\n",
    "imputed_df = imputer.fit_transform(df)\n",
    "\n",
    "# Convert back to dfFrame\n",
    "imputed_df = pd.DataFrame(imputed_df, columns=df.columns)\n",
    "\n",
    "# Convert categorical columns back to original categories\n",
    "for col in categorical_cols:\n",
    "    imputed_df[col] = imputed_df[col].round().astype(int)\n",
    "    imputed_df[col] = imputed_df[col].map(category_mappings[col])\n",
    "\n",
    "# Add the datetime column back\n",
    "imputed_df = pd.concat([imputed_df, datetime_df.reset_index(drop=True)], axis=1)"
   ]
  },
  {
   "cell_type": "code",
   "execution_count": 7,
   "metadata": {},
   "outputs": [
    {
     "data": {
      "text/plain": [
       "(3275, 14)"
      ]
     },
     "execution_count": 7,
     "metadata": {},
     "output_type": "execute_result"
    }
   ],
   "source": [
    "imputed_df['big_race_ethnicity'].dropna(inplace=True, axis=0)\n",
    "imputed_df.shape"
   ]
  },
  {
   "cell_type": "code",
   "execution_count": 8,
   "metadata": {},
   "outputs": [],
   "source": [
    "data = pd.read_excel(\"../../data/restated/Training-Restated.xlsx\")"
   ]
  },
  {
   "cell_type": "code",
   "execution_count": 9,
   "metadata": {},
   "outputs": [
    {
     "data": {
      "text/html": [
       "<div>\n",
       "<style scoped>\n",
       "    .dataframe tbody tr th:only-of-type {\n",
       "        vertical-align: middle;\n",
       "    }\n",
       "\n",
       "    .dataframe tbody tr th {\n",
       "        vertical-align: top;\n",
       "    }\n",
       "\n",
       "    .dataframe thead th {\n",
       "        text-align: right;\n",
       "    }\n",
       "</style>\n",
       "<table border=\"1\" class=\"dataframe\">\n",
       "  <thead>\n",
       "    <tr style=\"text-align: right;\">\n",
       "      <th></th>\n",
       "      <th>match_id</th>\n",
       "      <th>completion_date</th>\n",
       "      <th>contact_notes</th>\n",
       "    </tr>\n",
       "  </thead>\n",
       "  <tbody>\n",
       "    <tr>\n",
       "      <th>0</th>\n",
       "      <td>a1v2J0000028pRvQAI</td>\n",
       "      <td>2017-11-30</td>\n",
       "      <td>Question: Activities:           Answer: See ms...</td>\n",
       "    </tr>\n",
       "    <tr>\n",
       "      <th>1</th>\n",
       "      <td>a1v2J0000028pRvQAI</td>\n",
       "      <td>2017-10-31</td>\n",
       "      <td>Question: Activities:           Answer: See MS...</td>\n",
       "    </tr>\n",
       "    <tr>\n",
       "      <th>2</th>\n",
       "      <td>a1v2J0000028pRvQAI</td>\n",
       "      <td>2017-12-01</td>\n",
       "      <td>Question: Activities:           Answer: Match ...</td>\n",
       "    </tr>\n",
       "    <tr>\n",
       "      <th>3</th>\n",
       "      <td>a1v2J0000028pRvQAI</td>\n",
       "      <td>2017-05-29</td>\n",
       "      <td>Question: Activities:           Answer: Msc as...</td>\n",
       "    </tr>\n",
       "    <tr>\n",
       "      <th>4</th>\n",
       "      <td>a1v2J0000028pRvQAI</td>\n",
       "      <td>2017-04-30</td>\n",
       "      <td>Question: Activities:           Answer: Msc as...</td>\n",
       "    </tr>\n",
       "  </tbody>\n",
       "</table>\n",
       "</div>"
      ],
      "text/plain": [
       "             match_id completion_date  \\\n",
       "0  a1v2J0000028pRvQAI      2017-11-30   \n",
       "1  a1v2J0000028pRvQAI      2017-10-31   \n",
       "2  a1v2J0000028pRvQAI      2017-12-01   \n",
       "3  a1v2J0000028pRvQAI      2017-05-29   \n",
       "4  a1v2J0000028pRvQAI      2017-04-30   \n",
       "\n",
       "                                       contact_notes  \n",
       "0  Question: Activities:           Answer: See ms...  \n",
       "1  Question: Activities:           Answer: See MS...  \n",
       "2  Question: Activities:           Answer: Match ...  \n",
       "3  Question: Activities:           Answer: Msc as...  \n",
       "4  Question: Activities:           Answer: Msc as...  "
      ]
     },
     "execution_count": 9,
     "metadata": {},
     "output_type": "execute_result"
    }
   ],
   "source": [
    "sample = data[['Match ID 18Char', \"Completion Date\", \"Match Support Contact Notes\"]]\n",
    "sample.rename({\n",
    "    'Match ID 18Char': \"match_id\",\n",
    "    'Completion Date':'completion_date',\n",
    "    \"Match Support Contact Notes\":\"contact_notes\"\n",
    "},axis=1, inplace=True)\n",
    "sample.head()"
   ]
  },
  {
   "cell_type": "code",
   "execution_count": 10,
   "metadata": {},
   "outputs": [],
   "source": [
    "sample.dropna(axis=0, inplace=True)"
   ]
  },
  {
   "cell_type": "code",
   "execution_count": 11,
   "metadata": {},
   "outputs": [],
   "source": [
    "join_df = pd.merge(sample, imputed_df, how='left', on='match_id')"
   ]
  },
  {
   "cell_type": "code",
   "execution_count": 12,
   "metadata": {},
   "outputs": [],
   "source": [
    "join_df.to_excel(\"data/cleaning.xlsx\", index=False)"
   ]
  }
 ],
 "metadata": {
  "kernelspec": {
   "display_name": "env_x86",
   "language": "python",
   "name": "python3"
  },
  "language_info": {
   "codemirror_mode": {
    "name": "ipython",
    "version": 3
   },
   "file_extension": ".py",
   "mimetype": "text/x-python",
   "name": "python",
   "nbconvert_exporter": "python",
   "pygments_lexer": "ipython3",
   "version": "3.12.9"
  }
 },
 "nbformat": 4,
 "nbformat_minor": 2
}
